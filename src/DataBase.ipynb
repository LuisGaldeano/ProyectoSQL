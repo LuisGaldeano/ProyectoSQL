{
 "cells": [
  {
   "cell_type": "markdown",
   "id": "17542b02",
   "metadata": {},
   "source": [
    "# Database\n",
    "---\n",
    "  \n",
    "El siguiente paso es crear la base de datos y hacer las relaciones entre tablas.\n",
    "  \n",
    "Para realizar esta tarea he usado MySQL Workbench y mediante Reverse Engineer ha construido todas las tablas y sus relaciones.\n",
    "  \n",
    "El sql resultante lo he guardado como DataBase.sql\n",
    "  \n",
    "Después de crear las tablas, importo los datos de los csv y ajusto las tablas para que casen los datos de ambas\n",
    "  \n",
    "Ahora, voy a empezar a utilizar las tablas para poder obtener una tabla 'Matriz' que me permita explorar todas las relaciones."
   ]
  },
  {
   "cell_type": "code",
   "execution_count": 2,
   "id": "aa562edb",
   "metadata": {},
   "outputs": [],
   "source": [
    "import mysql.connector as conn\n",
    "import password "
   ]
  },
  {
   "cell_type": "code",
   "execution_count": null,
   "id": "7c4550d8",
   "metadata": {},
   "outputs": [],
   "source": []
  },
  {
   "cell_type": "code",
   "execution_count": null,
   "id": "7f18b790",
   "metadata": {},
   "outputs": [],
   "source": [
    "conexion = conn.connect(host='localhost',\n",
    "                        user='root',\n",
    "                        passwd=)    # conexion al servidor\n",
    "\n",
    "cursor = conexion.cursor()\n",
    "\n",
    "cursor"
   ]
  },
  {
   "cell_type": "code",
   "execution_count": null,
   "id": "97d31850",
   "metadata": {},
   "outputs": [],
   "source": []
  },
  {
   "cell_type": "code",
   "execution_count": null,
   "id": "b9ba4172",
   "metadata": {},
   "outputs": [],
   "source": []
  },
  {
   "cell_type": "code",
   "execution_count": null,
   "id": "01728f13",
   "metadata": {},
   "outputs": [],
   "source": []
  }
 ],
 "metadata": {
  "kernelspec": {
   "display_name": "Python 3 (ipykernel)",
   "language": "python",
   "name": "python3"
  },
  "language_info": {
   "codemirror_mode": {
    "name": "ipython",
    "version": 3
   },
   "file_extension": ".py",
   "mimetype": "text/x-python",
   "name": "python",
   "nbconvert_exporter": "python",
   "pygments_lexer": "ipython3",
   "version": "3.11.1"
  }
 },
 "nbformat": 4,
 "nbformat_minor": 5
}
