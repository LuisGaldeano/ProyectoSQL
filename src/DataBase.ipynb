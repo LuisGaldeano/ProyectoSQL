{
 "cells": [
  {
   "cell_type": "markdown",
   "id": "a5455b2f",
   "metadata": {},
   "source": [
    "# Database\n",
    "---\n",
    "  \n",
    "El siguiente paso es crear la base de datos y hacer las relaciones entre tablas.\n",
    "  \n",
    "Para realizar esta tarea he usado MySQL Workbench y mediante Reverse Engineer ha construido todas las tablas y sus relaciones.\n",
    "  \n",
    "El sql resultante lo he guardado como DataBase.sql\n",
    "  \n",
    "Después de crear las tablas, importo los datos de los csv y ajusto las tablas para que casen los datos de ambas\n",
    "  \n",
    "Ahora, voy a empezar a utilizar las tablas para poder obtener una tabla 'Matriz' que me permita explorar todas las relaciones."
   ]
  },
  {
   "cell_type": "code",
   "execution_count": null,
   "id": "18d6435f",
   "metadata": {},
   "outputs": [],
   "source": []
  },
  {
   "cell_type": "code",
   "execution_count": null,
   "id": "0ff2d204",
   "metadata": {},
   "outputs": [],
   "source": []
  },
  {
   "cell_type": "code",
   "execution_count": null,
   "id": "e665673a",
   "metadata": {},
   "outputs": [],
   "source": []
  },
  {
   "cell_type": "code",
   "execution_count": null,
   "id": "6d55ec8f",
   "metadata": {},
   "outputs": [],
   "source": []
  }
 ],
 "metadata": {
  "kernelspec": {
   "display_name": "Python 3 (ipykernel)",
   "language": "python",
   "name": "python3"
  },
  "language_info": {
   "codemirror_mode": {
    "name": "ipython",
    "version": 3
   },
   "file_extension": ".py",
   "mimetype": "text/x-python",
   "name": "python",
   "nbconvert_exporter": "python",
   "pygments_lexer": "ipython3",
   "version": "3.11.1"
  }
 },
 "nbformat": 4,
 "nbformat_minor": 5
}
