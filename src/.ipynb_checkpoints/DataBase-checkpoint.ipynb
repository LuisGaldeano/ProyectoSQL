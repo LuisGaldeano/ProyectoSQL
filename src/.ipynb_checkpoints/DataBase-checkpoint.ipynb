{
 "cells": [
  {
   "cell_type": "markdown",
   "id": "ae7e56eb",
   "metadata": {},
   "source": [
    "# Database\n",
    "---\n",
    "  \n",
    "El siguiente paso es crear la base de datos y hacer las relaciones entre tablas.\n",
    "  \n",
    "Para realizar esta tarea he usado MySQL Workbench y mediante Reverse Engineer ha construido todas las tablas y sus relaciones.\n",
    "  \n",
    "El sql resultante lo he guardado como DataBase.sql\n",
    "\n",
    "Después de crear las tablas, importo los datos de los csv y ajusto las tablas para que casen los datos de ambas\n",
    "  \n",
    "Ahora, voy a empezar a utilizar las tablas para poder obtener una tabla 'Matriz' que me permita explorar todas las relaciones."
   ]
  },
  {
   "cell_type": "code",
   "execution_count": 39,
   "id": "ac3d7264",
   "metadata": {},
   "outputs": [],
   "source": [
    "import mysql.connector as conn\n",
    "from setting import password_MySQL\n",
    "\n",
    "# Falta por importar host_MySL y user_MySQL"
   ]
  },
  {
   "cell_type": "code",
   "execution_count": 42,
   "id": "6f8468be",
   "metadata": {},
   "outputs": [
    {
     "data": {
      "text/plain": [
       "<mysql.connector.cursor_cext.CMySQLCursor at 0x2b96d417e50>"
      ]
     },
     "execution_count": 42,
     "metadata": {},
     "output_type": "execute_result"
    }
   ],
   "source": [
    "conexion = conn.connect(host='localhost',\n",
    "                        user='root',\n",
    "                        passwd=password_MySQL,\n",
    "                        database='blockbuster')    # conexion al servidor\n",
    "\n",
    "cursor = conexion.cursor()\n",
    "\n",
    "cursor"
   ]
  },
  {
   "cell_type": "code",
   "execution_count": 43,
   "id": "df7551a0",
   "metadata": {},
   "outputs": [
    {
     "name": "stdout",
     "output_type": "stream",
     "text": [
      "('blockbuster',)\n",
      "('cars',)\n",
      "('information_schema',)\n",
      "('lab_mysql',)\n",
      "('mysql',)\n",
      "('performance_schema',)\n",
      "('publications',)\n",
      "('sakila',)\n",
      "('sys',)\n",
      "('world',)\n"
     ]
    }
   ],
   "source": [
    "cursor.execute('show databases;')\n",
    "\n",
    "for e in cursor:\n",
    "    print(e)"
   ]
  },
  {
   "cell_type": "code",
   "execution_count": null,
   "id": "e4e8a3f1",
   "metadata": {},
   "outputs": [],
   "source": []
  },
  {
   "cell_type": "code",
   "execution_count": null,
   "id": "66217a02",
   "metadata": {},
   "outputs": [],
   "source": []
  },
  {
   "cell_type": "code",
   "execution_count": null,
   "id": "6c058501",
   "metadata": {},
   "outputs": [],
   "source": []
  }
 ],
 "metadata": {
  "kernelspec": {
   "display_name": "Python 3 (ipykernel)",
   "language": "python",
   "name": "python3"
  },
  "language_info": {
   "codemirror_mode": {
    "name": "ipython",
    "version": 3
   },
   "file_extension": ".py",
   "mimetype": "text/x-python",
   "name": "python",
   "nbconvert_exporter": "python",
   "pygments_lexer": "ipython3",
   "version": "3.11.1"
  }
 },
 "nbformat": 4,
 "nbformat_minor": 5
}
