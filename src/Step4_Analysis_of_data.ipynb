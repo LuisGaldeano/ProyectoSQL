{
 "cells": [
  {
   "cell_type": "code",
   "execution_count": null,
   "id": "b7aab47b",
   "metadata": {},
   "outputs": [],
   "source": [
    "import mysql.connector as conn\n",
    "from setting import password_MySQL\n",
    "\n",
    "# Falta por importar host_MySL y user_MySQL"
   ]
  },
  {
   "cell_type": "code",
   "execution_count": null,
   "id": "b2f372d2",
   "metadata": {},
   "outputs": [],
   "source": [
    "conexion = conn.connect(host='localhost',\n",
    "                        user='root',\n",
    "                        passwd=password_MySQL,\n",
    "                        database='blockbuster')    # conexion al servidor\n",
    "\n",
    "cursor = conexion.cursor()\n",
    "\n",
    "cursor"
   ]
  },
  {
   "cell_type": "code",
   "execution_count": null,
   "id": "f8093075",
   "metadata": {},
   "outputs": [],
   "source": [
    "cursor.execute('show databases;')\n",
    "\n",
    "for e in cursor:\n",
    "    print(e)"
   ]
  }
 ],
 "metadata": {
  "kernelspec": {
   "display_name": "Python 3 (ipykernel)",
   "language": "python",
   "name": "python3"
  },
  "language_info": {
   "codemirror_mode": {
    "name": "ipython",
    "version": 3
   },
   "file_extension": ".py",
   "mimetype": "text/x-python",
   "name": "python",
   "nbconvert_exporter": "python",
   "pygments_lexer": "ipython3",
   "version": "3.11.1"
  }
 },
 "nbformat": 4,
 "nbformat_minor": 5
}
