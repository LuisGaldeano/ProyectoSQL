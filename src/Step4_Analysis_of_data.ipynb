{
 "cells": [
  {
   "cell_type": "markdown",
   "id": "f1310cc9",
   "metadata": {},
   "source": [
    "# Análisis\n",
    "---\n",
    "\n",
    "Para realizar este análisis y en vista de usar una plataforma diferente voy a realizar las queries en Jupyter Notebook y así no tendré que ir realizando cambios entre MySQL Workbench y este Jupyter Notebook.\n",
    "\n",
    "Dicho esto, las 10 preguntas que voy a intentar resolver son las siguientes:\n",
    "\n",
    "1. ¿Cuales son los actores con más películas en el DF?\n",
    "2. ¿Cuales son los actores con menos películas?\n",
    "3. ¿Cual es la categoría con más películas?\n",
    "4. ¿Cual es la categoría con menos películas?\n",
    "5. ¿Cual es la película en la que trabajan más actores?\n",
    "6. ¿Cual es la película en la que trabajan menos actores?\n",
    "7. ¿Cual es la película más larga del repertorio?\n",
    "8. ¿Cual es la película más corta del repertorio?\n",
    "9. ¿Cuanto fue el tiempo máximo de alquiler de una película?\n",
    "10. ¿Cuanto fue el tiempo mínimo de alquiler de una película?\n",
    "  \n",
    "Vayamos paso a paso..."
   ]
  },
  {
   "cell_type": "markdown",
   "id": "a4e40d16",
   "metadata": {},
   "source": [
    "# Conexión con la BD\n",
    "---"
   ]
  },
  {
   "cell_type": "code",
   "execution_count": 6,
   "id": "b7aab47b",
   "metadata": {},
   "outputs": [],
   "source": [
    "import mysql.connector as conn\n",
    "from setting import password_MySQL\n",
    "\n",
    "# Falta por importar host_MySL y user_MySQL"
   ]
  },
  {
   "cell_type": "code",
   "execution_count": 41,
   "id": "b2f372d2",
   "metadata": {},
   "outputs": [],
   "source": [
    "def querydb(query, limit=5):\n",
    "\n",
    "    conexion = conn.connect(host='localhost',\n",
    "                            user='root',\n",
    "                            passwd=password_MySQL,\n",
    "                            database='blockbuster')    # conexion al servidor\n",
    "    cursor = conexion.cursor()\n",
    "    query += f\" limit {limit}\"\n",
    "    cursor.execute(query)\n",
    "    res = cursor.fetchall()\n",
    "    print(res)    \n",
    "    cursor.close()\n",
    "    conexion.close()"
   ]
  },
  {
   "cell_type": "code",
   "execution_count": 35,
   "id": "f8093075",
   "metadata": {},
   "outputs": [
    {
     "name": "stdout",
     "output_type": "stream",
     "text": [
      "[('blockbuster',), ('borrar',), ('information_schema',), ('mysql',), ('performance_schema',), ('sakila',), ('sys',), ('world',)]\n"
     ]
    }
   ],
   "source": [
    "query = 'show databases;'\n",
    "querydb(query)"
   ]
  },
  {
   "cell_type": "code",
   "execution_count": 31,
   "id": "7bc21cc1",
   "metadata": {},
   "outputs": [
    {
     "name": "stdout",
     "output_type": "stream",
     "text": [
      "[(1, 1, 1, 6), (2, 23, 1, 2)]\n"
     ]
    }
   ],
   "source": [
    "query = \"SELECT * FROM new_hdd\"\n",
    "querydb(query, 2)"
   ]
  },
  {
   "cell_type": "markdown",
   "id": "1581d676",
   "metadata": {},
   "source": [
    "Una vez establecida la conexión empiezo a responder a las preguntas"
   ]
  },
  {
   "cell_type": "markdown",
   "id": "8efedc3e",
   "metadata": {},
   "source": [
    "# Pregunta 1\n",
    "### ¿Cuales son los actores con más películas en el DF?\n",
    "---"
   ]
  },
  {
   "cell_type": "code",
   "execution_count": 46,
   "id": "64ff347e",
   "metadata": {},
   "outputs": [
    {
     "name": "stdout",
     "output_type": "stream",
     "text": [
      "[(23, 'SANDRA', 'KILMER', 37), (37, 'VAL', 'BOLGER', 35), (13, 'UMA', 'WOOD', 35)]\n"
     ]
    }
   ],
   "source": [
    "query = '''\n",
    "    SELECT \n",
    "        actor,\n",
    "        first_name AS actor_name,\n",
    "        last_name AS actor_surname,\n",
    "        COUNT(film) AS films_by_actor\n",
    "    FROM\n",
    "        new_hdd\n",
    "        LEFT JOIN actors ON actors.actor_id = new_hdd.actor\n",
    "    GROUP BY actor\n",
    "    ORDER BY films_by_actor DESC\n",
    "'''\n",
    "querydb(query, 3)"
   ]
  },
  {
   "cell_type": "markdown",
   "id": "a3f384a5",
   "metadata": {},
   "source": [
    "El top 3 de actores con más películas son:\n",
    "  \n",
    "1. Sandra Kilmer con 37 películas.\n",
    "2. VAL BOLGER con 35 películas.\n",
    "1. UMA WOOD con 35 películas."
   ]
  },
  {
   "cell_type": "markdown",
   "id": "8e24450b",
   "metadata": {},
   "source": [
    "# Pregunta 2\n",
    "### ¿Cuales son los actores con menos películas?\n",
    "---"
   ]
  },
  {
   "cell_type": "code",
   "execution_count": 48,
   "id": "a6df9013",
   "metadata": {},
   "outputs": [
    {
     "name": "stdout",
     "output_type": "stream",
     "text": [
      "[(39, 'GOLDIE', 'BRODY', 7), (35, 'JUDY', 'DEAN', 15), (31, 'SISSY', 'SOBIESKI', 18)]\n"
     ]
    }
   ],
   "source": [
    "query = '''\n",
    "    SELECT \n",
    "        actor,\n",
    "        first_name AS actor_name,\n",
    "        last_name AS actor_surname,\n",
    "        COUNT(film) AS films_by_actor\n",
    "    FROM\n",
    "        new_hdd\n",
    "        LEFT JOIN actors ON actors.actor_id = new_hdd.actor\n",
    "    GROUP BY actor\n",
    "    ORDER BY films_by_actor ASC\n",
    "'''\n",
    "querydb(query, 3)"
   ]
  },
  {
   "cell_type": "markdown",
   "id": "b7e5d1d7",
   "metadata": {},
   "source": [
    "El top 3 de actores con menos películas son:\n",
    "  \n",
    "1. Goldie Browdy con 7 películas.\n",
    "2. Judy Dean con 15 películas.\n",
    "1. Sissy Sobieski con 18 películas."
   ]
  },
  {
   "cell_type": "markdown",
   "id": "e6c8da60",
   "metadata": {},
   "source": [
    "# Pregunta 3\n",
    "### ¿Cual es la categoría con más películas?\n",
    "---"
   ]
  },
  {
   "cell_type": "code",
   "execution_count": 51,
   "id": "5a1f2c6e",
   "metadata": {},
   "outputs": [
    {
     "name": "stdout",
     "output_type": "stream",
     "text": [
      "[(15, 'Sports', 79), (1, 'Action', 77), (2, 'Animation', 75)]\n"
     ]
    }
   ],
   "source": [
    "query = '''\n",
    "    SELECT \n",
    "        category,\n",
    "        categories.name AS category_name,\n",
    "        COUNT(film) AS films_by_category\n",
    "    FROM\n",
    "        new_hdd\n",
    "        LEFT JOIN categories ON categories.category_id = new_hdd.category\n",
    "    GROUP BY category\n",
    "    ORDER BY films_by_category DESC\n",
    "'''\n",
    "querydb(query, 3)"
   ]
  },
  {
   "cell_type": "markdown",
   "id": "6162d7be",
   "metadata": {},
   "source": [
    "Las categorías con más películas son:\n",
    "  \n",
    "  1. Sports con 79 películas.\n",
    "  2. Action con 77 películas.\n",
    "  3. Animation con 75 películas."
   ]
  },
  {
   "cell_type": "markdown",
   "id": "ed11f445",
   "metadata": {},
   "source": [
    "# Pregunta 4\n",
    "### ¿Cual es la categoría con menos películas?\n",
    "---"
   ]
  },
  {
   "cell_type": "code",
   "execution_count": 57,
   "id": "97bd0698",
   "metadata": {},
   "outputs": [
    {
     "name": "stdout",
     "output_type": "stream",
     "text": [
      "[(10, 'Games', 38), (5, 'Comedy', 46), (16, 'Travel', 52)]\n"
     ]
    }
   ],
   "source": [
    "query = '''\n",
    "    SELECT \n",
    "        category,\n",
    "        categories.name AS category_name,\n",
    "        COUNT(film) AS films_by_category\n",
    "    FROM\n",
    "        new_hdd\n",
    "        LEFT JOIN categories ON categories.category_id = new_hdd.category\n",
    "    GROUP BY category\n",
    "    ORDER BY films_by_category ASC\n",
    "'''\n",
    "querydb(query, 3)"
   ]
  },
  {
   "cell_type": "markdown",
   "id": "c9e6affd",
   "metadata": {},
   "source": [
    "Las categorías con menos películas son:\n",
    "  \n",
    "  1. Games con 38 películas.\n",
    "  2. Comedy con 46 películas.\n",
    "  3. Travel con 52 películas."
   ]
  },
  {
   "cell_type": "markdown",
   "id": "170b2e90",
   "metadata": {},
   "source": [
    "# Pregunta 5\n",
    "### ¿Cual es la película en la que trabajan más actores?\n",
    "---\n"
   ]
  },
  {
   "cell_type": "code",
   "execution_count": 56,
   "id": "b506fabf",
   "metadata": {},
   "outputs": [
    {
     "name": "stdout",
     "output_type": "stream",
     "text": [
      "[('BOONDOCK BALLROOM', 6), ('FLASH WARS', 5), ('OKLAHOMA JUMANJI', 5)]\n"
     ]
    }
   ],
   "source": [
    "query = '''\n",
    "    SELECT \n",
    "        film.title,\n",
    "        COUNT(actor) AS actors_by_film\n",
    "    FROM\n",
    "        new_hdd\n",
    "        LEFT JOIN film ON film.film_id = new_hdd.film\n",
    "    GROUP BY film\n",
    "    ORDER BY actors_by_film DESC\n",
    "'''\n",
    "querydb(query, 3)"
   ]
  },
  {
   "cell_type": "markdown",
   "id": "34bd8495",
   "metadata": {},
   "source": [
    "Las peliculas en las que trabajan más actores son:\n",
    "  \n",
    "  1. Boondock ballroom con 6 actores.\n",
    "  2. Flash wars con 5 actores.\n",
    "  3. Oklahoma Jumanji con 5 actores."
   ]
  },
  {
   "cell_type": "markdown",
   "id": "9e24e69a",
   "metadata": {},
   "source": [
    "# Pregunta 6\n",
    "### ¿Cual es la película en la que trabajan menos actores?\n",
    "---\n"
   ]
  },
  {
   "cell_type": "code",
   "execution_count": 55,
   "id": "af13a592",
   "metadata": {},
   "outputs": [
    {
     "name": "stdout",
     "output_type": "stream",
     "text": [
      "[('EXORCIST STING', 1), ('COLOR PHILADELPHIA', 1), ('GLEAMING JAWBREAKER', 1)]\n"
     ]
    }
   ],
   "source": [
    "query = '''\n",
    "    SELECT \n",
    "        film.title,\n",
    "        COUNT(actor) AS actors_by_film\n",
    "    FROM\n",
    "        new_hdd\n",
    "        LEFT JOIN film ON film.film_id = new_hdd.film\n",
    "    GROUP BY film\n",
    "    ORDER BY actors_by_film ASC\n",
    "'''\n",
    "querydb(query, 3)"
   ]
  },
  {
   "cell_type": "markdown",
   "id": "2bc27653",
   "metadata": {},
   "source": [
    "Las peliculas en las que trabajan menos actores son:\n",
    "  \n",
    "  1. Exorcist sting con 1 actores.\n",
    "  2. Color Philadelphia con 1 actores.\n",
    "  3. Gleaming Jawbreaker con 1 actores."
   ]
  },
  {
   "cell_type": "markdown",
   "id": "95fb59b9",
   "metadata": {},
   "source": [
    "# Pregunta 7\n",
    "### ¿Cual es la película más larga del repertorio?\n",
    "---\n"
   ]
  },
  {
   "cell_type": "code",
   "execution_count": 58,
   "id": "41969391",
   "metadata": {},
   "outputs": [
    {
     "name": "stdout",
     "output_type": "stream",
     "text": [
      "[('DARN FORRESTER', 185), ('CHICAGO NORTH', 185), ('CONTROL ANTHEM', 185)]\n"
     ]
    }
   ],
   "source": [
    "query = '''\n",
    "    SELECT \n",
    "        film.title,\n",
    "        film.length AS length\n",
    "    FROM\n",
    "        film\n",
    "    ORDER BY length DESC\n",
    "'''\n",
    "querydb(query, 3)"
   ]
  },
  {
   "cell_type": "markdown",
   "id": "0be2b793",
   "metadata": {},
   "source": [
    "Las peliculas más largas del repertorio son:\n",
    "  \n",
    "  1. Darn Forrester con 185 minutos.\n",
    "  2. Chicago North con 185 minutos.\n",
    "  3. Control Anthem con 185 minutos."
   ]
  },
  {
   "cell_type": "markdown",
   "id": "de524e6e",
   "metadata": {},
   "source": [
    "# Pregunta 8\n",
    "### ¿Cual es la película más corta del repertorio?\n",
    "---"
   ]
  },
  {
   "cell_type": "code",
   "execution_count": 59,
   "id": "a449bc62",
   "metadata": {},
   "outputs": [
    {
     "name": "stdout",
     "output_type": "stream",
     "text": [
      "[('IRON MOON', 46), ('KWAI HOMEWARD', 46), ('ALIEN CENTER', 46)]\n"
     ]
    }
   ],
   "source": [
    "query = '''\n",
    "    SELECT \n",
    "        film.title,\n",
    "        film.length AS length\n",
    "    FROM\n",
    "        film\n",
    "    ORDER BY length ASC\n",
    "'''\n",
    "querydb(query, 3)"
   ]
  },
  {
   "cell_type": "markdown",
   "id": "30754a71",
   "metadata": {},
   "source": [
    "Las peliculas más largas del repertorio son:\n",
    "  \n",
    "  1. Iron Moon con 46 minutos.\n",
    "  2. Kawai Homeward con 46 minutos.\n",
    "  3. Alien Center con 46 minutos."
   ]
  },
  {
   "cell_type": "markdown",
   "id": "d8a3624e",
   "metadata": {},
   "source": [
    "# Pregunta 9\n",
    "### ¿Cuanto fue el tiempo máximo de alquiler de una película?\n",
    "---\n"
   ]
  },
  {
   "cell_type": "code",
   "execution_count": 60,
   "id": "6c654714",
   "metadata": {},
   "outputs": [
    {
     "name": "stdout",
     "output_type": "stream",
     "text": [
      "[('ARGONAUTS TOWN', 7), ('ADAPTATION HOLES', 7), ('ANONYMOUS HUMAN', 7)]\n"
     ]
    }
   ],
   "source": [
    "query = '''\n",
    "    SELECT \n",
    "        film.title,\n",
    "        film.rental_duration AS ren_duration\n",
    "    FROM\n",
    "        film\n",
    "    ORDER BY ren_duration DESC\n",
    "'''\n",
    "querydb(query, 3)"
   ]
  },
  {
   "cell_type": "markdown",
   "id": "0e07fe33",
   "metadata": {},
   "source": [
    "Las peliculas que han tenido una mayor duración de alquiler son:\n",
    "  \n",
    "  1. Argonauts Town con 7 días.\n",
    "  2. Adaptation Holes con 7 días.\n",
    "  3. Anonymous Human con 7 días."
   ]
  },
  {
   "cell_type": "markdown",
   "id": "0dca51c2",
   "metadata": {},
   "source": [
    "# Pregunta 10\n",
    "### ¿Cuanto fue el tiempo mínimo de alquiler de una película?\n",
    "---\n"
   ]
  },
  {
   "cell_type": "code",
   "execution_count": 61,
   "id": "ccc98602",
   "metadata": {},
   "outputs": [
    {
     "name": "stdout",
     "output_type": "stream",
     "text": [
      "[('ALABAMA DEVIL', 3), ('ACE GOLDFINGER', 3), ('AGENT TRUMAN', 3)]\n"
     ]
    }
   ],
   "source": [
    "query = '''\n",
    "    SELECT \n",
    "        film.title,\n",
    "        film.rental_duration AS ren_duration\n",
    "    FROM\n",
    "        film\n",
    "    ORDER BY ren_duration ASC\n",
    "'''\n",
    "querydb(query, 3)"
   ]
  },
  {
   "cell_type": "markdown",
   "id": "fbdd0dd5",
   "metadata": {},
   "source": [
    "Las peliculas que han tenido una menor duración de alquiler son:\n",
    "  \n",
    "  1. Alabama Devil con 3 días.\n",
    "  2. Ace Goldfinger con 3 días.\n",
    "  3. Agent Truman con 3 días."
   ]
  }
 ],
 "metadata": {
  "kernelspec": {
   "display_name": "Python 3 (ipykernel)",
   "language": "python",
   "name": "python3"
  },
  "language_info": {
   "codemirror_mode": {
    "name": "ipython",
    "version": 3
   },
   "file_extension": ".py",
   "mimetype": "text/x-python",
   "name": "python",
   "nbconvert_exporter": "python",
   "pygments_lexer": "ipython3",
   "version": "3.11.1"
  }
 },
 "nbformat": 4,
 "nbformat_minor": 5
}
