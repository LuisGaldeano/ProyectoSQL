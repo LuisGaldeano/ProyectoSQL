{
 "cells": [
  {
   "cell_type": "markdown",
   "id": "f1310cc9",
   "metadata": {},
   "source": [
    "# Análisis\n",
    "---\n",
    "\n",
    "Para realizar este análisis y en vista de usar una plataforma diferente voy a realizar las queries en Jupyter Notebook y así no tendré que ir realizando cambios entre MySQL Workbench y este Jupyter Notebook.\n",
    "\n",
    "Dicho esto, las 10 preguntas que voy a intentar resolver son las siguientes:\n",
    "\n",
    "1. ¿Cuales son los actores con más películas en el DF?\n",
    "2. ¿Cuales son los actores con menos películas?\n",
    "3. ¿Cual es la categoría con más películas?\n",
    "4. ¿Cual es la categoría con menos películas?\n",
    "5. ¿Cual es la película en la que trabajan más actores?\n",
    "6. ¿Cual es la película en la que trabajan menos actores?\n",
    "7. ¿Cual es la película más larga del repertorio?\n",
    "8. ¿Cual es la película más corta del repertorio?\n",
    "9. ¿Cuanto fue el tiempo máximo de alquiler de una película?\n",
    "10. ¿Cuanto fue el tiempo mínimo de alquiler de una película?\n",
    "  \n",
    "Vayamos paso a paso..."
   ]
  },
  {
   "cell_type": "markdown",
   "id": "a4e40d16",
   "metadata": {},
   "source": [
    "# Conexión con la BD\n",
    "---"
   ]
  },
  {
   "cell_type": "code",
   "execution_count": 1,
   "id": "b7aab47b",
   "metadata": {},
   "outputs": [],
   "source": [
    "import mysql.connector as conn\n",
    "from setting import password_MySQL\n",
    "\n",
    "# Falta por importar host_MySL y user_MySQL"
   ]
  },
  {
   "cell_type": "code",
   "execution_count": 2,
   "id": "b2f372d2",
   "metadata": {},
   "outputs": [],
   "source": [
    "def querydb(query, limit=5):\n",
    "\n",
    "    conexion = conn.connect(host='localhost',\n",
    "                            user='root',\n",
    "                            passwd=password_MySQL,\n",
    "                            database='blockbuster')    # conexion al servidor\n",
    "    cursor = conexion.cursor()\n",
    "    query += f\" limit {limit}\"\n",
    "    cursor.execute(query)\n",
    "    res = cursor.fetchall()\n",
    "    print(res)    \n",
    "    cursor.close()\n",
    "    conexion.close()"
   ]
  },
  {
   "cell_type": "code",
   "execution_count": 3,
   "id": "f8093075",
   "metadata": {},
   "outputs": [
    {
     "name": "stdout",
     "output_type": "stream",
     "text": [
      "[('blockbuster',), ('borrar',), ('information_schema',), ('mysql',), ('performance_schema',), ('sakila',), ('sys',), ('world',)]\n"
     ]
    }
   ],
   "source": [
    "query = 'show databases;'\n",
    "querydb(query)"
   ]
  },
  {
   "cell_type": "code",
   "execution_count": 4,
   "id": "7bc21cc1",
   "metadata": {},
   "outputs": [
    {
     "name": "stdout",
     "output_type": "stream",
     "text": [
      "[(1, 1, 1, 6), (2, 23, 1, 2)]\n"
     ]
    }
   ],
   "source": [
    "query = \"SELECT * FROM new_hdd\"\n",
    "querydb(query, 2)"
   ]
  },
  {
   "cell_type": "markdown",
   "id": "1581d676",
   "metadata": {},
   "source": [
    "Una vez establecida la conexión empiezo a responder a las preguntas"
   ]
  },
  {
   "cell_type": "markdown",
   "id": "8efedc3e",
   "metadata": {},
   "source": [
    "# Pregunta 1\n",
    "### ¿Cuales son los actores con más películas en el DF?\n",
    "---"
   ]
  },
  {
   "cell_type": "code",
   "execution_count": 5,
   "id": "64ff347e",
   "metadata": {},
   "outputs": [
    {
     "name": "stdout",
     "output_type": "stream",
     "text": [
      "[(23, 'SANDRA', 'KILMER', 37), (37, 'VAL', 'BOLGER', 35), (13, 'UMA', 'WOOD', 35)]\n"
     ]
    }
   ],
   "source": [
    "query = '''\n",
    "    SELECT \n",
    "        actor,\n",
    "        first_name AS actor_name,\n",
    "        last_name AS actor_surname,\n",
    "        COUNT(film) AS films_by_actor\n",
    "    FROM\n",
    "        new_hdd\n",
    "        LEFT JOIN actors ON actors.actor_id = new_hdd.actor\n",
    "    GROUP BY actor\n",
    "    ORDER BY films_by_actor DESC\n",
    "'''\n",
    "querydb(query, 3)"
   ]
  },
  {
   "cell_type": "markdown",
   "id": "a3f384a5",
   "metadata": {},
   "source": [
    "El top 3 de actores con más películas son:\n",
    "  \n",
    "1. Sandra Kilmer con 37 películas.\n",
    "2. VAL BOLGER con 35 películas.\n",
    "1. UMA WOOD con 35 películas."
   ]
  },
  {
   "cell_type": "markdown",
   "id": "8e24450b",
   "metadata": {},
   "source": [
    "# Pregunta 2\n",
    "### ¿Cuales son los actores con menos películas?\n",
    "---"
   ]
  },
  {
   "cell_type": "code",
   "execution_count": 6,
   "id": "a6df9013",
   "metadata": {},
   "outputs": [
    {
     "name": "stdout",
     "output_type": "stream",
     "text": [
      "[(39, 'GOLDIE', 'BRODY', 7), (35, 'JUDY', 'DEAN', 15), (31, 'SISSY', 'SOBIESKI', 18)]\n"
     ]
    }
   ],
   "source": [
    "query = '''\n",
    "    SELECT \n",
    "        actor,\n",
    "        first_name AS actor_name,\n",
    "        last_name AS actor_surname,\n",
    "        COUNT(film) AS films_by_actor\n",
    "    FROM\n",
    "        new_hdd\n",
    "        LEFT JOIN actors ON actors.actor_id = new_hdd.actor\n",
    "    GROUP BY actor\n",
    "    ORDER BY films_by_actor ASC\n",
    "'''\n",
    "querydb(query, 3)"
   ]
  },
  {
   "cell_type": "markdown",
   "id": "b7e5d1d7",
   "metadata": {},
   "source": [
    "El top 3 de actores con menos películas son:\n",
    "  \n",
    "1. Goldie Browdy con 7 películas.\n",
    "2. Judy Dean con 15 películas.\n",
    "1. Sissy Sobieski con 18 películas."
   ]
  },
  {
   "cell_type": "markdown",
   "id": "e6c8da60",
   "metadata": {},
   "source": [
    "# Pregunta 3\n",
    "### ¿Cual es la categoría con más películas?\n",
    "---"
   ]
  },
  {
   "cell_type": "code",
   "execution_count": 7,
   "id": "5a1f2c6e",
   "metadata": {},
   "outputs": [
    {
     "name": "stdout",
     "output_type": "stream",
     "text": [
      "[(15, 'Sports', 79), (1, 'Action', 77), (2, 'Animation', 75)]\n"
     ]
    }
   ],
   "source": [
    "query = '''\n",
    "    SELECT \n",
    "        category,\n",
    "        categories.name AS category_name,\n",
    "        COUNT(film) AS films_by_category\n",
    "    FROM\n",
    "        new_hdd\n",
    "        LEFT JOIN categories ON categories.category_id = new_hdd.category\n",
    "    GROUP BY category\n",
    "    ORDER BY films_by_category DESC\n",
    "'''\n",
    "querydb(query, 3)"
   ]
  },
  {
   "cell_type": "markdown",
   "id": "6162d7be",
   "metadata": {},
   "source": [
    "Las categorías con más películas son:\n",
    "  \n",
    "  1. Sports con 79 películas.\n",
    "  2. Action con 77 películas.\n",
    "  3. Animation con 75 películas."
   ]
  },
  {
   "cell_type": "markdown",
   "id": "ed11f445",
   "metadata": {},
   "source": [
    "# Pregunta 4\n",
    "### ¿Cual es la categoría con menos películas?\n",
    "---"
   ]
  },
  {
   "cell_type": "code",
   "execution_count": 8,
   "id": "97bd0698",
   "metadata": {},
   "outputs": [
    {
     "name": "stdout",
     "output_type": "stream",
     "text": [
      "[(10, 'Games', 38), (5, 'Comedy', 46), (16, 'Travel', 52)]\n"
     ]
    }
   ],
   "source": [
    "query = '''\n",
    "    SELECT \n",
    "        category,\n",
    "        categories.name AS category_name,\n",
    "        COUNT(film) AS films_by_category\n",
    "    FROM\n",
    "        new_hdd\n",
    "        LEFT JOIN categories ON categories.category_id = new_hdd.category\n",
    "    GROUP BY category\n",
    "    ORDER BY films_by_category ASC\n",
    "'''\n",
    "querydb(query, 3)"
   ]
  },
  {
   "cell_type": "markdown",
   "id": "c9e6affd",
   "metadata": {},
   "source": [
    "Las categorías con menos películas son:\n",
    "  \n",
    "  1. Games con 38 películas.\n",
    "  2. Comedy con 46 películas.\n",
    "  3. Travel con 52 películas."
   ]
  },
  {
   "cell_type": "markdown",
   "id": "170b2e90",
   "metadata": {},
   "source": [
    "# Pregunta 5\n",
    "### ¿Cual es la película en la que trabajan más actores?\n",
    "---\n"
   ]
  },
  {
   "cell_type": "code",
   "execution_count": 9,
   "id": "b506fabf",
   "metadata": {},
   "outputs": [
    {
     "name": "stdout",
     "output_type": "stream",
     "text": [
      "[('BOONDOCK BALLROOM', 6), ('FLASH WARS', 5), ('OKLAHOMA JUMANJI', 5)]\n"
     ]
    }
   ],
   "source": [
    "query = '''\n",
    "    SELECT \n",
    "        film.title,\n",
    "        COUNT(actor) AS actors_by_film\n",
    "    FROM\n",
    "        new_hdd\n",
    "        LEFT JOIN film ON film.film_id = new_hdd.film\n",
    "    GROUP BY film\n",
    "    ORDER BY actors_by_film DESC\n",
    "'''\n",
    "querydb(query, 3)"
   ]
  },
  {
   "cell_type": "code",
   "execution_count": 12,
   "id": "8900c811",
   "metadata": {},
   "outputs": [
    {
     "name": "stdout",
     "output_type": "stream",
     "text": [
      "[('OKLAHOMA JUMANJI', 5), ('FLASH WARS', 5), ('CHITTY LOCK', 5), ('CONEHEADS SMOOCHY', 5), ('STRANGER STRANGERS', 5)]\n"
     ]
    }
   ],
   "source": [
    "query = '''\n",
    "    SELECT \n",
    "        film.title,\n",
    "        COUNT(actor) AS actors_by_film\n",
    "    FROM\n",
    "        new_hdd\n",
    "        LEFT JOIN film ON film.film_id = new_hdd.film\n",
    "    GROUP BY film\n",
    "    HAVING\n",
    "        actors_by_film = 5\n",
    "    ORDER BY actors_by_film DESC\n",
    "'''\n",
    "querydb(query, 10)"
   ]
  },
  {
   "cell_type": "markdown",
   "id": "34bd8495",
   "metadata": {},
   "source": [
    "Las peliculas en las que trabajan más actores son:\n",
    "  \n",
    "  1. Boondock ballroom con 6 actores.\n",
    "  2. Flash wars, Oklahoma Jumanji, Chitty lock, Conheads Smoochy y Stranger Strangers con 5 actores."
   ]
  },
  {
   "cell_type": "markdown",
   "id": "9e24e69a",
   "metadata": {},
   "source": [
    "# Pregunta 6\n",
    "### ¿Cual es la película en la que trabajan menos actores?\n",
    "---\n"
   ]
  },
  {
   "cell_type": "code",
   "execution_count": 55,
   "id": "af13a592",
   "metadata": {},
   "outputs": [
    {
     "name": "stdout",
     "output_type": "stream",
     "text": [
      "[('EXORCIST STING', 1), ('COLOR PHILADELPHIA', 1), ('GLEAMING JAWBREAKER', 1)]\n"
     ]
    }
   ],
   "source": [
    "query = '''\n",
    "    SELECT \n",
    "        film.title,\n",
    "        COUNT(actor) AS actors_by_film\n",
    "    FROM\n",
    "        new_hdd\n",
    "        LEFT JOIN film ON film.film_id = new_hdd.film\n",
    "    GROUP BY film\n",
    "    ORDER BY actors_by_film ASC\n",
    "'''\n",
    "querydb(query, 3)"
   ]
  },
  {
   "cell_type": "code",
   "execution_count": 14,
   "id": "b6cb456a",
   "metadata": {},
   "outputs": [
    {
     "name": "stdout",
     "output_type": "stream",
     "text": [
      "[('BULWORTH COMMANDMENTS', 1), ('COLOR PHILADELPHIA', 1), ('GLEAMING JAWBREAKER', 1), ('LADY STAGE', 1), ('RULES HUMAN', 1), ('VERTIGO NORTHWEST', 1), ('CHAINSAW UPTOWN', 1), ('CHISUM BEHAVIOR', 1), ('DRACULA CRYSTAL', 1), ('FIGHT JAWBREAKER', 1), ('HAPPINESS UNITED', 1), ('JEKYLL FROGMEN', 1), ('LIAISONS SWEET', 1), ('MAGUIRE APACHE', 1), ('WARDROBE PHANTOM', 1), ('ARMY FLINTSTONES', 1), ('COWBOY DOOM', 1), ('EVE RESURRECTION', 1), ('FROST HEAD', 1), ('HUNTER ALTER', 1)]\n"
     ]
    }
   ],
   "source": [
    "query = '''\n",
    "    SELECT \n",
    "        film.title,\n",
    "        COUNT(actor) AS actors_by_film\n",
    "    FROM\n",
    "        new_hdd\n",
    "        LEFT JOIN film ON film.film_id = new_hdd.film\n",
    "    GROUP BY film\n",
    "    HAVING\n",
    "        actors_by_film = 1\n",
    "    ORDER BY actors_by_film ASC\n",
    "'''\n",
    "querydb(query, 20)"
   ]
  },
  {
   "cell_type": "markdown",
   "id": "2bc27653",
   "metadata": {},
   "source": [
    "Hay varias películas que tienen un solo actor, por lo que todas estarían en el mismo nivel."
   ]
  },
  {
   "cell_type": "markdown",
   "id": "95fb59b9",
   "metadata": {},
   "source": [
    "# Pregunta 7\n",
    "### ¿Cual es la película más larga del repertorio?\n",
    "---\n"
   ]
  },
  {
   "cell_type": "code",
   "execution_count": 58,
   "id": "41969391",
   "metadata": {},
   "outputs": [
    {
     "name": "stdout",
     "output_type": "stream",
     "text": [
      "[('DARN FORRESTER', 185), ('CHICAGO NORTH', 185), ('CONTROL ANTHEM', 185)]\n"
     ]
    }
   ],
   "source": [
    "query = '''\n",
    "    SELECT \n",
    "        film.title,\n",
    "        film.length AS length\n",
    "    FROM\n",
    "        film\n",
    "    ORDER BY length DESC\n",
    "'''\n",
    "querydb(query, 3)"
   ]
  },
  {
   "cell_type": "code",
   "execution_count": 17,
   "id": "bef0a26e",
   "metadata": {},
   "outputs": [
    {
     "name": "stdout",
     "output_type": "stream",
     "text": [
      "[('CHICAGO NORTH', 185), ('CONTROL ANTHEM', 185), ('DARN FORRESTER', 185), ('GANGS PRIDE', 185), ('HOME PITY', 185), ('MUSCLE BRIGHT', 185), ('POND SEATTLE', 185), ('SOLDIERS EVOLUTION', 185), ('SWEET BROTHERHOOD', 185), ('WORST BANGER', 185)]\n"
     ]
    }
   ],
   "source": [
    "query = '''\n",
    "    SELECT \n",
    "        film.title,\n",
    "        film.length AS length\n",
    "    FROM\n",
    "        film\n",
    "    WHERE\n",
    "        length = 185\n",
    "    ORDER BY length DESC\n",
    "'''\n",
    "querydb(query, 11)"
   ]
  },
  {
   "cell_type": "markdown",
   "id": "0be2b793",
   "metadata": {},
   "source": [
    "Al igual que con el número mínimo de actores, en este caso hay 10 películas que duran lo mismo y comparten el mismo nivel, por lo que no puedo clasificar una película más larga en particular."
   ]
  },
  {
   "cell_type": "markdown",
   "id": "de524e6e",
   "metadata": {},
   "source": [
    "# Pregunta 8\n",
    "### ¿Cual es la película más corta del repertorio?\n",
    "---"
   ]
  },
  {
   "cell_type": "code",
   "execution_count": 59,
   "id": "a449bc62",
   "metadata": {},
   "outputs": [
    {
     "name": "stdout",
     "output_type": "stream",
     "text": [
      "[('IRON MOON', 46), ('KWAI HOMEWARD', 46), ('ALIEN CENTER', 46)]\n"
     ]
    }
   ],
   "source": [
    "query = '''\n",
    "    SELECT \n",
    "        film.title,\n",
    "        film.length AS length\n",
    "    FROM\n",
    "        film\n",
    "    ORDER BY length ASC\n",
    "'''\n",
    "querydb(query, 3)"
   ]
  },
  {
   "cell_type": "code",
   "execution_count": 19,
   "id": "a785591b",
   "metadata": {},
   "outputs": [
    {
     "name": "stdout",
     "output_type": "stream",
     "text": [
      "[('ALIEN CENTER', 46), ('IRON MOON', 46), ('KWAI HOMEWARD', 46), ('LABYRINTH LEAGUE', 46), ('RIDGEMONT SUBMARINE', 46)]\n"
     ]
    }
   ],
   "source": [
    "query = '''\n",
    "    SELECT \n",
    "        film.title,\n",
    "        film.length AS length\n",
    "    FROM\n",
    "        film\n",
    "    WHERE\n",
    "        length = 46\n",
    "    ORDER BY length ASC\n",
    "'''\n",
    "querydb(query, 23)"
   ]
  },
  {
   "cell_type": "markdown",
   "id": "30754a71",
   "metadata": {},
   "source": [
    "Las peliculas más cortas del repertorio son:\n",
    "  \n",
    "  1. Iron Moon con 46 minutos.\n",
    "  2. Kawai Homeward con 46 minutos.\n",
    "  3. Alien Center con 46 minutos.\n",
    "  4. Labyrinth League con 46 minutos.\n",
    "  5. Ridgemont Dubmarine con 46 minutos.\n",
    "  \n",
    "  Todas están en el mismo nivel con 46 minutos de duración"
   ]
  },
  {
   "cell_type": "markdown",
   "id": "d8a3624e",
   "metadata": {},
   "source": [
    "# Pregunta 9\n",
    "### ¿Cuanto fue el tiempo máximo de alquiler de una película?\n",
    "---\n"
   ]
  },
  {
   "cell_type": "code",
   "execution_count": 60,
   "id": "6c654714",
   "metadata": {},
   "outputs": [
    {
     "name": "stdout",
     "output_type": "stream",
     "text": [
      "[('ARGONAUTS TOWN', 7), ('ADAPTATION HOLES', 7), ('ANONYMOUS HUMAN', 7)]\n"
     ]
    }
   ],
   "source": [
    "query = '''\n",
    "    SELECT \n",
    "        film.title,\n",
    "        film.rental_duration AS ren_duration\n",
    "    FROM\n",
    "        film\n",
    "    ORDER BY ren_duration DESC\n",
    "'''\n",
    "querydb(query, 3)"
   ]
  },
  {
   "cell_type": "code",
   "execution_count": 31,
   "id": "023ad6d0",
   "metadata": {},
   "outputs": [
    {
     "name": "stdout",
     "output_type": "stream",
     "text": [
      "[('ADAPTATION HOLES', 7), ('ANONYMOUS HUMAN', 7), ('ARGONAUTS TOWN', 7), ('BIKINI BORROWERS', 7), ('BLACKOUT PRIVATE', 7), ('BLANKET BEVERLY', 7), ('BOILED DARES', 7), ('BOONDOCK BALLROOM', 7), ('BORN SPINAL', 7), ('BORROWERS BEDAZZLED', 7), ('BOWFINGER GABLES', 7), ('BRAVEHEART HUMAN', 7), ('BRIDE INTRIGUE', 7), ('BRINGING HYSTERICAL', 7), ('BROOKLYN DESERT', 7), ('BUCKET BROTHERHOOD', 7), ('CANYON STOCK', 7), ('CARRIE BUNCH', 7), ('CATCH AMISTAD', 7), ('CELEBRITY HORN', 7), ('CHAMBER ITALIAN', 7), ('CHAPLIN LICENSE', 7), ('CHASING FIGHT', 7), ('CHINATOWN GLADIATOR', 7), ('CHRISTMAS MOONSHINE', 7), ('CIDER DESIRE', 7), ('CITIZEN SHREK', 7), ('CLOCKWORK PARADISE', 7), ('COLDBLOODED DARLING', 7), ('CONEHEADS SMOOCHY', 7), ('CONFESSIONS MAGUIRE', 7), ('CONTACT ANONYMOUS', 7), ('CONTROL ANTHEM', 7), ('CRAZY HOME', 7), ('CRUELTY UNFORGIVEN', 7), ('CURTAIN VIDEOTAPE', 7), ('CYCLONE FAMILY', 7), ('DANGEROUS UPTOWN', 7), ('DARES PLUTO', 7), ('DARLING BREAKING', 7), ('DARN FORRESTER', 7), ('DECEIVER BETRAYED', 7), ('DEER VIRGINIAN', 7), ('DESIRE ALIEN', 7), ('DESPERATE TRAINSPOTTING', 7), ('DIARY PANIC', 7), ('DINOSAUR SECRETARY', 7), ('DIRTY ACE', 7), ('DOLLS RAGE', 7), ('DRACULA CRYSTAL', 7), ('EARTH VISION', 7), ('ELIZABETH SHANE', 7), ('EMPIRE MALKOVICH', 7), ('ENOUGH RAGING', 7), ('ESCAPE METROPOLIS', 7), ('FIREHOUSE VIETNAM', 7), ('FLIGHT LIES', 7), ('FOREVER CANDIDATE', 7), ('FORRESTER COMANCHEROS', 7), ('FRANKENSTEIN STRANGER', 7), ('FREAKY POCUS', 7), ('FUGITIVE MAGUIRE', 7), ('GAMES BOWFINGER', 7), ('GANDHI KWAI', 7), ('GHOSTBUSTERS ELF', 7), ('GILBERT PELICAN', 7), ('GLORY TRACY', 7), ('GONE TROUBLE', 7), ('GRADUATE LORD', 7), ('GREASE YOUTH', 7), ('GREEDY ROOTS', 7), ('GREEK EVERYONE', 7), ('GRINCH MASSAGE', 7), ('GUN BONNIE', 7), ('HAMLET WISDOM', 7), ('HARDLY ROBBERS', 7), ('HEAVEN FREEDOM', 7), ('HEDWIG ALTER', 7), ('HOLES BRANNIGAN', 7), ('HOLIDAY GAMES', 7), ('HOLLOW JEOPARDY', 7), ('HOLLYWOOD ANONYMOUS', 7), ('HOME PITY', 7), ('HOOK CHARIOTS', 7), ('HOUSE DYNAMITE', 7), ('IGBY MAKER', 7), ('IMPOSSIBLE PREJUDICE', 7), ('IRON MOON', 7), ('ISLAND EXORCIST', 7), ('JEDI BENEATH', 7), ('JET NEIGHBORS', 7), ('KILLER INNOCENT', 7), ('LAWRENCE LOVE', 7), ('LEGALLY SECRETARY', 7), ('LEGEND JEDI', 7), ('LICENSE WEEKEND', 7), ('LIES TREATMENT', 7), ('LIGHTS DEER', 7), ('LOCK REAR', 7), ('LOVERBOY ATTACKS', 7), ('LUCK OPUS', 7), ('LUCKY FLYING', 7), ('MADRE GABLES', 7), ('MARRIED GO', 7), ('MENAGERIE RUSHMORE', 7), ('MIGHTY LUCK', 7), ('MOON BUNCH', 7), ('MULHOLLAND BEAST', 7), ('MUSCLE BRIGHT', 7), ('MUSIC BOONDOCK', 7), ('MUSKETEERS WAIT', 7), ('NOTORIOUS REUNION', 7), ('NOTTING SPEAKEASY', 7), ('OKLAHOMA JUMANJI', 7), ('OPEN AFRICAN', 7), ('OPERATION OPERATION', 7), ('OPPOSITE NECKLACE', 7), ('ORDER BETRAYED', 7), ('OSCAR GOLD', 7), ('OTHERS SOUP', 7), ('OUTLAW HANKY', 7), ('PARIS WEEKEND', 7), ('PARTY KNOCK', 7), ('PATIENT SISTER', 7), ('PEAK FOREVER', 7), ('PERDITION FARGO', 7), ('PERFECT GROOVE', 7), ('PHILADELPHIA WIFE', 7), ('POND SEATTLE', 7), ('PRIMARY GLASS', 7), ('PRIVATE DROP', 7), ('RACER EGG', 7), ('REBEL AIRPORT', 7), ('RECORDS ZORRO', 7), ('REDS POCUS', 7), ('RESERVOIR ADAPTATION', 7), ('RIGHT CRANES', 7), ('ROBBERS JOON', 7), ('ROMAN PUNK', 7), ('ROOF CHAMPION', 7), ('ROOM ROMAN', 7), ('SADDLE ANTITRUST', 7), ('SANTA PARIS', 7), ('SATURN NAME', 7), ('SENSIBILITY REAR', 7), ('SHANGHAI TYCOON', 7), ('SHEPHERD MIDSUMMER', 7), ('SHOCK CABIN', 7), ('SHREK LICENSE', 7), ('SIEGE MADRE', 7), ('SILENCE KANE', 7), ('SINNERS ATLANTIS', 7), ('SKY MIRACLE', 7), ('SLACKER LIAISONS', 7), ('SLEEPING SUSPECTS', 7), ('SMOKING BARBARELLA', 7), ('SMOOCHY CONTROL', 7), ('SOLDIERS EVOLUTION', 7), ('SPEED SUIT', 7), ('SPIKING ELEMENT', 7), ('SPINAL ROCKY', 7), ('SPIRIT FLINTSTONES', 7), ('STEPMOM DREAM', 7), ('STOCK GLASS', 7), ('STORY SIDE', 7), ('STREAK RIDGEMONT', 7), ('TEXAS WATCH', 7), ('TOWERS HURRICANE', 7), ('TRAINSPOTTING STRANGERS', 7), ('TRIP NEWTON', 7), ('TRUMAN CRAZY', 7), ('UNCUT SUICIDES', 7), ('UNDEFEATED DALMATIONS', 7), ('UNFAITHFUL KILL', 7), ('UNFORGIVEN ZOOLANDER', 7), ('VALENTINE VANISHING', 7), ('VANILLA DAY', 7), ('VARSITY TRIP', 7), ('VIETNAM SMOOCHY', 7), ('VOLUME HOUSE', 7), ('WAGON JAWS', 7), ('WAKE JAWS', 7), ('WALLS ARTIST', 7), ('WANDA CHAMBER', 7), ('WAR NOTTING', 7), ('WASH HEAVENLY', 7), ('WASTELAND DIVINE', 7), ('WESTWARD SEABISCUIT', 7), ('WOLVES DESIRE', 7), ('WON DARES', 7), ('WORKER TARZAN', 7)]\n"
     ]
    }
   ],
   "source": [
    "query = '''\n",
    "    SELECT \n",
    "        film.title,\n",
    "        film.rental_duration AS ren_duration\n",
    "    FROM\n",
    "        film\n",
    "    WHERE\n",
    "        rental_duration = 7\n",
    "    ORDER BY ren_duration DESC\n",
    "'''\n",
    "querydb(query, 1000)"
   ]
  },
  {
   "cell_type": "markdown",
   "id": "0e07fe33",
   "metadata": {},
   "source": [
    "Como se puede ver hay muchas películas que tubieron el mismo tiempo de alquiler, que fue de 7 días, siendo este tiempo el máximo que se ha prestado alguna película."
   ]
  },
  {
   "cell_type": "markdown",
   "id": "0dca51c2",
   "metadata": {},
   "source": [
    "# Pregunta 10\n",
    "### ¿Cuanto fue el tiempo mínimo de alquiler de una película?\n",
    "---\n"
   ]
  },
  {
   "cell_type": "code",
   "execution_count": 61,
   "id": "ccc98602",
   "metadata": {},
   "outputs": [
    {
     "name": "stdout",
     "output_type": "stream",
     "text": [
      "[('ALABAMA DEVIL', 3), ('ACE GOLDFINGER', 3), ('AGENT TRUMAN', 3)]\n"
     ]
    }
   ],
   "source": [
    "query = '''\n",
    "    SELECT \n",
    "        film.title,\n",
    "        film.rental_duration AS ren_duration\n",
    "    FROM\n",
    "        film\n",
    "    ORDER BY ren_duration ASC\n",
    "'''\n",
    "querydb(query, 3)"
   ]
  },
  {
   "cell_type": "code",
   "execution_count": 32,
   "id": "d1c1a199",
   "metadata": {},
   "outputs": [
    {
     "name": "stdout",
     "output_type": "stream",
     "text": [
      "[('ACE GOLDFINGER', 3), ('AGENT TRUMAN', 3), ('ALABAMA DEVIL', 3), ('ALONE TRIP', 3), ('AMERICAN CIRCUS', 3), ('ANACONDA CONFESSIONS', 3), ('ANGELS LIFE', 3), ('ANNIE IDENTITY', 3), ('ARIZONA BANG', 3), ('AUTUMN CROW', 3), ('BACKLASH UNDEFEATED', 3), ('BAKED CLEOPATRA', 3), ('BEAST HUNCHBACK', 3), ('BEHAVIOR RUNAWAY', 3), ('BEVERLY OUTLAW', 3), ('BILKO ANONYMOUS', 3), ('BLOOD ARGONAUTS', 3), ('BOULEVARD MOB', 3), ('BROTHERHOOD BLANKET', 3), ('BUTTERFLY CHOCOLAT', 3), ('CADDYSHACK JEDI', 3), ('CAMELOT VACATION', 3), ('CARIBBEAN LIBERTY', 3), ('CASPER DRAGONFLY', 3), ('CASUALTIES ENCINO', 3), ('CAUSE DATE', 3), ('CHANCE RESURRECTION', 3), ('CHARADE DUFFEL', 3), ('CHICKEN HELLFIGHTERS', 3), ('CHOCOLATE DUCK', 3), ('CLERKS ANGELS', 3), ('COMFORTS RUSH', 3), ('CONFUSED CANDLES', 3), ('CORE SUIT', 3), ('COWBOY DOOM', 3), ('CREATURES SHAKESPEARE', 3), ('CROWDS TELEMARK', 3), ('DANCES NONE', 3), ('DARKO DORADO', 3), ('DAUGHTER MADIGAN', 3), ('DAY UNFAITHFUL', 3), ('DESTINATION JERK', 3), ('DISCIPLE MOTHER', 3), ('DIVORCE SHINING', 3), ('DOORS PRESIDENT', 3), ('DOWNHILL ENOUGH', 3), ('DRUMLINE CYCLONE', 3), ('DUDE BLINDNESS', 3), ('EARRING INSTINCT', 3), ('EGYPT TENENBAUMS', 3), ('ENGLISH BULWORTH', 3), ('EXCITEMENT EVE', 3), ('EXPENDABLE STALLION', 3), ('FARGO GANDHI', 3), ('FEATHERS METAL', 3), ('FERRIS MOTHER', 3), ('FIGHT JAWBREAKER', 3), ('FLASH WARS', 3), ('FLINTSTONES HAPPINESS', 3), ('FOOL MOCKINGBIRD', 3), ('FURY MURDER', 3), ('GABLES METROPOLIS', 3), ('GARDEN ISLAND', 3), ('GO PURPLE', 3), ('GODFATHER DIARY', 3), ('GOLDFINGER SENSIBILITY', 3), ('GRAFFITI LOVE', 3), ('GRIT CLOCKWORK', 3), ('GUMP DATE', 3), ('GUNFIGHTER MUSSOLINI', 3), ('HARPER DYING', 3), ('HEARTBREAKERS BRIGHT', 3), ('HELLFIGHTERS SIERRA', 3), ('HIGH ENCINO', 3), ('HONEY TIES', 3), ('HOOSIERS BIRDCAGE', 3), ('HORROR REIGN', 3), ('HUMAN GRAFFITI', 3), ('HUSTLER PARTY', 3), ('IDAHO LOVE', 3), ('IMAGE PRINCESS', 3), ('INNOCENT USUAL', 3), ('INSECTS STONE', 3), ('INTENTIONS EMPIRE', 3), ('ITALIAN AFRICAN', 3), ('JEEPERS WEDDING', 3), ('JEOPARDY ENCINO', 3), ('JERICHO MULAN', 3), ('JERK PAYCHECK', 3), ('JOON NORTHWEST', 3), ('KICK SAVANNAH', 3), ('KING EVOLUTION', 3), ('KISSING DOLLS', 3), ('KRAMER CHOCOLATE', 3), ('LESSON CLEOPATRA', 3), ('LIBERTY MAGNIFICENT', 3), ('LONELY ELEPHANT', 3), ('LOSE INCH', 3), ('LOVELY JINGLE', 3), ('LOVER TRUMAN', 3), ('LUST LOCK', 3), ('MAGIC MALLRATS', 3), ('MAGNIFICENT CHITTY', 3), ('MAIDEN HOME', 3), ('MANNEQUIN WORST', 3), ('MEET CHOCOLATE', 3), ('MIDNIGHT WESTWARD', 3), ('MIDSUMMER GROUNDHOG', 3), ('MINDS TRUMAN', 3), ('MINE TITANS', 3), ('MIRACLE VIRTUAL', 3), ('MISSION ZOOLANDER', 3), ('MODERN DORADO', 3), ('MONEY HAROLD', 3), ('MOTHER OLEANDER', 3), ('MUMMY CREATURES', 3), ('NECKLACE OUTBREAK', 3), ('NEIGHBORS CHARADE', 3), ('NIGHTMARE CHILL', 3), ('NONE SPIKING', 3), ('ORIENT CLOSER', 3), ('PACIFIC AMISTAD', 3), ('PACKER MADIGAN', 3), ('PAJAMA JAWBREAKER', 3), ('PANIC CLUB', 3), ('PAPI NECKLACE', 3), ('PARK CITIZEN', 3), ('PATHS CONTROL', 3), ('PEACH INNOCENT', 3), ('PEARL DESTINY', 3), ('PERSONAL LADYBUGS', 3), ('PET HAUNTING', 3), ('PICKUP DRIVING', 3), ('POTLUCK MIXED', 3), ('PRINCESS GIANT', 3), ('PURE RUNNER', 3), ('RAINBOW SHOCK', 3), ('RANGE MOONWALKER', 3), ('REDEMPTION COMFORTS', 3), ('REIGN GENTLEMEN', 3), ('REUNION WITCHES', 3), ('RIDGEMONT SUBMARINE', 3), ('ROCKETEER MOTHER', 3), ('ROUGE SQUAD', 3), ('RUN PACIFIC', 3), ('RUSH GOODFELLAS', 3), ('SATISFACTION CONFIDENTIAL', 3), ('SATURDAY LAMBS', 3), ('SCARFACE BANG', 3), ('SCORPION APOLLO', 3), ('SEARCHERS WAIT', 3), ('SECRETS PARADISE', 3), ('SHOW LORD', 3), ('SIERRA DIVIDE', 3), ('SIMON NORTH', 3), ('SNOWMAN ROLLERCOASTER', 3), ('SONG HEDWIG', 3), ('SONS INTERVIEW', 3), ('SQUAD FISH', 3), ('STING PERSONAL', 3), ('STONE FIRE', 3), ('STRAIGHT HOURS', 3), ('STRANGER STRANGERS', 3), ('STRICTLY SCARFACE', 3), ('SUGAR WONKA', 3), ('SUIT WALLS', 3), ('SUNRISE LEAGUE', 3), ('SWEET BROTHERHOOD', 3), ('SWEETHEARTS SUSPECTS', 3), ('TARZAN VIDEOTAPE', 3), ('TEEN APOLLO', 3), ('TELEGRAPH VOYAGE', 3), ('TIES HUNGER', 3), ('TIMBERLAND SKY', 3), ('TITANIC BOONDOCK', 3), ('TOMORROW HUSTLER', 3), ('TOOTSIE PILOT', 3), ('TORQUE BOUND', 3), ('TRACY CIDER', 3), ('TRAIN BUNCH', 3), ('TRAP GUYS', 3), ('TREASURE COMMAND', 3), ('TREATMENT JEKYLL', 3), ('TROJAN TOMORROW', 3), ('TROOPERS METAL', 3), ('TURN STAR', 3), ('TUXEDO MILE', 3), ('TYCOON GATHERING', 3), ('UNBREAKABLE KARATE', 3), ('UNITED PILOT', 3), ('VALLEY PACKER', 3), ('VANISHING ROCKY', 3), ('VELVET TERMINATOR', 3), ('VIRTUAL SPOILERS', 3), ('WAIT CIDER', 3), ('WEDDING APOLLO', 3), ('WIFE TURN', 3), ('WINDOW SIDE', 3), ('WISDOM WORKER', 3), ('WONDERFUL DROP', 3), ('WORDS HUNTER', 3), ('WORLD LEATHERNECKS', 3), ('ZORRO ARK', 3)]\n"
     ]
    }
   ],
   "source": [
    "query = '''\n",
    "    SELECT \n",
    "        film.title,\n",
    "        film.rental_duration AS ren_duration\n",
    "    FROM\n",
    "        film\n",
    "    WHERE\n",
    "        rental_duration = 3\n",
    "    ORDER BY ren_duration ASC\n",
    "'''\n",
    "querydb(query, 1000)"
   ]
  },
  {
   "cell_type": "markdown",
   "id": "fbdd0dd5",
   "metadata": {},
   "source": [
    "Al igual de la cuestión anterior, ocurre lo mismo con el número mínimo de dias, que es de 3  y hay varias películas que fueron devueltas trascurrido este tiempo."
   ]
  }
 ],
 "metadata": {
  "kernelspec": {
   "display_name": "Python 3 (ipykernel)",
   "language": "python",
   "name": "python3"
  },
  "language_info": {
   "codemirror_mode": {
    "name": "ipython",
    "version": 3
   },
   "file_extension": ".py",
   "mimetype": "text/x-python",
   "name": "python",
   "nbconvert_exporter": "python",
   "pygments_lexer": "ipython3",
   "version": "3.11.1"
  }
 },
 "nbformat": 4,
 "nbformat_minor": 5
}
