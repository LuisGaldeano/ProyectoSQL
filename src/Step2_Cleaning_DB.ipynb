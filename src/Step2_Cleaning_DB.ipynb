{
 "cells": [
  {
   "cell_type": "markdown",
   "id": "9c305abb",
   "metadata": {},
   "source": [
    "# ProyectoSQL"
   ]
  },
  {
   "cell_type": "markdown",
   "id": "f627b188",
   "metadata": {},
   "source": [
    "Los pasos que voy a seguir en esta parte del proceso son: \n",
    "  \n",
    "1. Asignar a cada csv un nombre que lo relacione con su contenido.\n",
    "2. Limpiar los nulos de la tabla.\n",
    "3. Ver si hay valores repetidos.\n",
    "4. Ver si hay consistencia en los datos.\n",
    "5. Exportar a fichero csv limpio.\n",
    "  \n",
    "Una vez realizado estos pasos con cada csv pasaré a realizar el esquema en MySQL Workbench "
   ]
  },
  {
   "cell_type": "markdown",
   "id": "a74d2c53",
   "metadata": {},
   "source": [
    "# Actors\n",
    "---"
   ]
  },
  {
   "cell_type": "code",
   "execution_count": 9,
   "id": "fd3758ef",
   "metadata": {},
   "outputs": [],
   "source": [
    "import pandas as pd\n",
    "import numpy as np\n",
    "\n",
    "import warnings\n",
    "warnings.filterwarnings('ignore')   # para quitar esos prints"
   ]
  },
  {
   "cell_type": "code",
   "execution_count": 5,
   "id": "797f359f",
   "metadata": {},
   "outputs": [
    {
     "data": {
      "text/html": [
       "<div>\n",
       "<style scoped>\n",
       "    .dataframe tbody tr th:only-of-type {\n",
       "        vertical-align: middle;\n",
       "    }\n",
       "\n",
       "    .dataframe tbody tr th {\n",
       "        vertical-align: top;\n",
       "    }\n",
       "\n",
       "    .dataframe thead th {\n",
       "        text-align: right;\n",
       "    }\n",
       "</style>\n",
       "<table border=\"1\" class=\"dataframe\">\n",
       "  <thead>\n",
       "    <tr style=\"text-align: right;\">\n",
       "      <th></th>\n",
       "      <th>actor_id</th>\n",
       "      <th>first_name</th>\n",
       "      <th>last_name</th>\n",
       "      <th>last_update</th>\n",
       "    </tr>\n",
       "  </thead>\n",
       "  <tbody>\n",
       "    <tr>\n",
       "      <th>0</th>\n",
       "      <td>1</td>\n",
       "      <td>PENELOPE</td>\n",
       "      <td>GUINESS</td>\n",
       "      <td>2006-02-15 04:34:33</td>\n",
       "    </tr>\n",
       "    <tr>\n",
       "      <th>1</th>\n",
       "      <td>2</td>\n",
       "      <td>NICK</td>\n",
       "      <td>WAHLBERG</td>\n",
       "      <td>2006-02-15 04:34:33</td>\n",
       "    </tr>\n",
       "    <tr>\n",
       "      <th>2</th>\n",
       "      <td>3</td>\n",
       "      <td>ED</td>\n",
       "      <td>CHASE</td>\n",
       "      <td>2006-02-15 04:34:33</td>\n",
       "    </tr>\n",
       "    <tr>\n",
       "      <th>3</th>\n",
       "      <td>4</td>\n",
       "      <td>JENNIFER</td>\n",
       "      <td>DAVIS</td>\n",
       "      <td>2006-02-15 04:34:33</td>\n",
       "    </tr>\n",
       "    <tr>\n",
       "      <th>4</th>\n",
       "      <td>5</td>\n",
       "      <td>JOHNNY</td>\n",
       "      <td>LOLLOBRIGIDA</td>\n",
       "      <td>2006-02-15 04:34:33</td>\n",
       "    </tr>\n",
       "  </tbody>\n",
       "</table>\n",
       "</div>"
      ],
      "text/plain": [
       "   actor_id first_name     last_name          last_update\n",
       "0         1   PENELOPE       GUINESS  2006-02-15 04:34:33\n",
       "1         2       NICK      WAHLBERG  2006-02-15 04:34:33\n",
       "2         3         ED         CHASE  2006-02-15 04:34:33\n",
       "3         4   JENNIFER         DAVIS  2006-02-15 04:34:33\n",
       "4         5     JOHNNY  LOLLOBRIGIDA  2006-02-15 04:34:33"
      ]
     },
     "execution_count": 5,
     "metadata": {},
     "output_type": "execute_result"
    }
   ],
   "source": [
    "actors = pd.read_csv('../data/actor.csv')\n",
    "actors.head()"
   ]
  },
  {
   "cell_type": "code",
   "execution_count": 6,
   "id": "a17c7706",
   "metadata": {},
   "outputs": [
    {
     "name": "stdout",
     "output_type": "stream",
     "text": [
      "<class 'pandas.core.frame.DataFrame'>\n",
      "RangeIndex: 200 entries, 0 to 199\n",
      "Data columns (total 4 columns):\n",
      " #   Column       Non-Null Count  Dtype \n",
      "---  ------       --------------  ----- \n",
      " 0   actor_id     200 non-null    int64 \n",
      " 1   first_name   200 non-null    object\n",
      " 2   last_name    200 non-null    object\n",
      " 3   last_update  200 non-null    object\n",
      "dtypes: int64(1), object(3)\n",
      "memory usage: 6.4+ KB\n"
     ]
    }
   ],
   "source": [
    "actors.info()"
   ]
  },
  {
   "cell_type": "code",
   "execution_count": 11,
   "id": "a09e514e",
   "metadata": {},
   "outputs": [
    {
     "data": {
      "text/plain": [
       "actor_id       0\n",
       "first_name     0\n",
       "last_name      0\n",
       "last_update    0\n",
       "dtype: int64"
      ]
     },
     "execution_count": 11,
     "metadata": {},
     "output_type": "execute_result"
    }
   ],
   "source": [
    "actors.isna().sum()"
   ]
  },
  {
   "cell_type": "code",
   "execution_count": 12,
   "id": "74cf1c65",
   "metadata": {},
   "outputs": [],
   "source": [
    "actors.drop_duplicates(inplace = True)"
   ]
  },
  {
   "cell_type": "code",
   "execution_count": 13,
   "id": "3c4c78c4",
   "metadata": {},
   "outputs": [
    {
     "name": "stdout",
     "output_type": "stream",
     "text": [
      "<class 'pandas.core.frame.DataFrame'>\n",
      "RangeIndex: 200 entries, 0 to 199\n",
      "Data columns (total 4 columns):\n",
      " #   Column       Non-Null Count  Dtype \n",
      "---  ------       --------------  ----- \n",
      " 0   actor_id     200 non-null    int64 \n",
      " 1   first_name   200 non-null    object\n",
      " 2   last_name    200 non-null    object\n",
      " 3   last_update  200 non-null    object\n",
      "dtypes: int64(1), object(3)\n",
      "memory usage: 6.4+ KB\n"
     ]
    }
   ],
   "source": [
    "actors.info()"
   ]
  },
  {
   "cell_type": "code",
   "execution_count": 22,
   "id": "d5bf4f71",
   "metadata": {},
   "outputs": [],
   "source": [
    "actors['last_update'] = pd.to_datetime(actors['last_update'], format='%Y-%m-%d %H:%M:%S')"
   ]
  },
  {
   "cell_type": "code",
   "execution_count": 29,
   "id": "ede6ca13",
   "metadata": {},
   "outputs": [
    {
     "data": {
      "text/plain": [
       "<DatetimeArray>\n",
       "['2006-02-15 04:34:33']\n",
       "Length: 1, dtype: datetime64[ns]"
      ]
     },
     "execution_count": 29,
     "metadata": {},
     "output_type": "execute_result"
    }
   ],
   "source": [
    "actors.last_update.unique()"
   ]
  },
  {
   "cell_type": "code",
   "execution_count": 31,
   "id": "e3a6df7c",
   "metadata": {},
   "outputs": [],
   "source": [
    "actors.drop('last_update', axis=1, inplace=True)"
   ]
  },
  {
   "cell_type": "code",
   "execution_count": 32,
   "id": "72fe19e1",
   "metadata": {},
   "outputs": [
    {
     "name": "stdout",
     "output_type": "stream",
     "text": [
      "<class 'pandas.core.frame.DataFrame'>\n",
      "RangeIndex: 200 entries, 0 to 199\n",
      "Data columns (total 3 columns):\n",
      " #   Column      Non-Null Count  Dtype \n",
      "---  ------      --------------  ----- \n",
      " 0   actor_id    200 non-null    int64 \n",
      " 1   first_name  200 non-null    object\n",
      " 2   last_name   200 non-null    object\n",
      "dtypes: int64(1), object(2)\n",
      "memory usage: 4.8+ KB\n"
     ]
    }
   ],
   "source": [
    "actors.info()"
   ]
  },
  {
   "cell_type": "code",
   "execution_count": 33,
   "id": "45bacc1c",
   "metadata": {},
   "outputs": [
    {
     "data": {
      "text/html": [
       "<div>\n",
       "<style scoped>\n",
       "    .dataframe tbody tr th:only-of-type {\n",
       "        vertical-align: middle;\n",
       "    }\n",
       "\n",
       "    .dataframe tbody tr th {\n",
       "        vertical-align: top;\n",
       "    }\n",
       "\n",
       "    .dataframe thead th {\n",
       "        text-align: right;\n",
       "    }\n",
       "</style>\n",
       "<table border=\"1\" class=\"dataframe\">\n",
       "  <thead>\n",
       "    <tr style=\"text-align: right;\">\n",
       "      <th></th>\n",
       "      <th>actor_id</th>\n",
       "      <th>first_name</th>\n",
       "      <th>last_name</th>\n",
       "    </tr>\n",
       "  </thead>\n",
       "  <tbody>\n",
       "    <tr>\n",
       "      <th>0</th>\n",
       "      <td>1</td>\n",
       "      <td>PENELOPE</td>\n",
       "      <td>GUINESS</td>\n",
       "    </tr>\n",
       "    <tr>\n",
       "      <th>1</th>\n",
       "      <td>2</td>\n",
       "      <td>NICK</td>\n",
       "      <td>WAHLBERG</td>\n",
       "    </tr>\n",
       "    <tr>\n",
       "      <th>2</th>\n",
       "      <td>3</td>\n",
       "      <td>ED</td>\n",
       "      <td>CHASE</td>\n",
       "    </tr>\n",
       "    <tr>\n",
       "      <th>3</th>\n",
       "      <td>4</td>\n",
       "      <td>JENNIFER</td>\n",
       "      <td>DAVIS</td>\n",
       "    </tr>\n",
       "    <tr>\n",
       "      <th>4</th>\n",
       "      <td>5</td>\n",
       "      <td>JOHNNY</td>\n",
       "      <td>LOLLOBRIGIDA</td>\n",
       "    </tr>\n",
       "  </tbody>\n",
       "</table>\n",
       "</div>"
      ],
      "text/plain": [
       "   actor_id first_name     last_name\n",
       "0         1   PENELOPE       GUINESS\n",
       "1         2       NICK      WAHLBERG\n",
       "2         3         ED         CHASE\n",
       "3         4   JENNIFER         DAVIS\n",
       "4         5     JOHNNY  LOLLOBRIGIDA"
      ]
     },
     "execution_count": 33,
     "metadata": {},
     "output_type": "execute_result"
    }
   ],
   "source": [
    "actors.head()"
   ]
  },
  {
   "cell_type": "code",
   "execution_count": 34,
   "id": "e0367337",
   "metadata": {},
   "outputs": [],
   "source": [
    "actors.to_csv('../data/limpios/actors_limpio.csv', index=False)"
   ]
  },
  {
   "cell_type": "markdown",
   "id": "cbf8eebc",
   "metadata": {},
   "source": [
    "# Category\n",
    "---"
   ]
  },
  {
   "cell_type": "code",
   "execution_count": 26,
   "id": "8f6f44a4",
   "metadata": {},
   "outputs": [
    {
     "data": {
      "text/html": [
       "<div>\n",
       "<style scoped>\n",
       "    .dataframe tbody tr th:only-of-type {\n",
       "        vertical-align: middle;\n",
       "    }\n",
       "\n",
       "    .dataframe tbody tr th {\n",
       "        vertical-align: top;\n",
       "    }\n",
       "\n",
       "    .dataframe thead th {\n",
       "        text-align: right;\n",
       "    }\n",
       "</style>\n",
       "<table border=\"1\" class=\"dataframe\">\n",
       "  <thead>\n",
       "    <tr style=\"text-align: right;\">\n",
       "      <th></th>\n",
       "      <th>category_id</th>\n",
       "      <th>name</th>\n",
       "      <th>last_update</th>\n",
       "    </tr>\n",
       "  </thead>\n",
       "  <tbody>\n",
       "    <tr>\n",
       "      <th>0</th>\n",
       "      <td>1</td>\n",
       "      <td>Action</td>\n",
       "      <td>2006-02-15 04:46:27</td>\n",
       "    </tr>\n",
       "    <tr>\n",
       "      <th>1</th>\n",
       "      <td>2</td>\n",
       "      <td>Animation</td>\n",
       "      <td>2006-02-15 04:46:27</td>\n",
       "    </tr>\n",
       "    <tr>\n",
       "      <th>2</th>\n",
       "      <td>3</td>\n",
       "      <td>Children</td>\n",
       "      <td>2006-02-15 04:46:27</td>\n",
       "    </tr>\n",
       "    <tr>\n",
       "      <th>3</th>\n",
       "      <td>4</td>\n",
       "      <td>Classics</td>\n",
       "      <td>2006-02-15 04:46:27</td>\n",
       "    </tr>\n",
       "    <tr>\n",
       "      <th>4</th>\n",
       "      <td>5</td>\n",
       "      <td>Comedy</td>\n",
       "      <td>2006-02-15 04:46:27</td>\n",
       "    </tr>\n",
       "  </tbody>\n",
       "</table>\n",
       "</div>"
      ],
      "text/plain": [
       "   category_id       name          last_update\n",
       "0            1     Action  2006-02-15 04:46:27\n",
       "1            2  Animation  2006-02-15 04:46:27\n",
       "2            3   Children  2006-02-15 04:46:27\n",
       "3            4   Classics  2006-02-15 04:46:27\n",
       "4            5     Comedy  2006-02-15 04:46:27"
      ]
     },
     "execution_count": 26,
     "metadata": {},
     "output_type": "execute_result"
    }
   ],
   "source": [
    "cat = pd.read_csv('../data/category.csv')\n",
    "cat.head()"
   ]
  },
  {
   "cell_type": "code",
   "execution_count": 27,
   "id": "b4b6933b",
   "metadata": {},
   "outputs": [
    {
     "name": "stdout",
     "output_type": "stream",
     "text": [
      "<class 'pandas.core.frame.DataFrame'>\n",
      "RangeIndex: 16 entries, 0 to 15\n",
      "Data columns (total 3 columns):\n",
      " #   Column       Non-Null Count  Dtype \n",
      "---  ------       --------------  ----- \n",
      " 0   category_id  16 non-null     int64 \n",
      " 1   name         16 non-null     object\n",
      " 2   last_update  16 non-null     object\n",
      "dtypes: int64(1), object(2)\n",
      "memory usage: 512.0+ bytes\n"
     ]
    }
   ],
   "source": [
    "cat.info()"
   ]
  },
  {
   "cell_type": "code",
   "execution_count": 28,
   "id": "63d5514a",
   "metadata": {},
   "outputs": [
    {
     "data": {
      "text/plain": [
       "array(['2006-02-15 04:46:27'], dtype=object)"
      ]
     },
     "execution_count": 28,
     "metadata": {},
     "output_type": "execute_result"
    }
   ],
   "source": [
    "cat.last_update.unique()"
   ]
  },
  {
   "cell_type": "code",
   "execution_count": 35,
   "id": "240abd90",
   "metadata": {},
   "outputs": [],
   "source": [
    "cat.drop('last_update', axis=1, inplace=True)"
   ]
  },
  {
   "cell_type": "code",
   "execution_count": 81,
   "id": "80a78afa",
   "metadata": {},
   "outputs": [],
   "source": [
    "cat.drop_duplicates(inplace = True)"
   ]
  },
  {
   "cell_type": "code",
   "execution_count": 82,
   "id": "14b04fc9",
   "metadata": {},
   "outputs": [
    {
     "name": "stdout",
     "output_type": "stream",
     "text": [
      "<class 'pandas.core.frame.DataFrame'>\n",
      "RangeIndex: 16 entries, 0 to 15\n",
      "Data columns (total 2 columns):\n",
      " #   Column       Non-Null Count  Dtype \n",
      "---  ------       --------------  ----- \n",
      " 0   category_id  16 non-null     int64 \n",
      " 1   name         16 non-null     object\n",
      "dtypes: int64(1), object(1)\n",
      "memory usage: 384.0+ bytes\n"
     ]
    }
   ],
   "source": [
    "cat.info()"
   ]
  },
  {
   "cell_type": "code",
   "execution_count": 37,
   "id": "a47a2cbc",
   "metadata": {},
   "outputs": [],
   "source": [
    "cat.to_csv('../data/limpios/categories_limpio.csv', index=False)"
   ]
  },
  {
   "cell_type": "markdown",
   "id": "2591b01e",
   "metadata": {},
   "source": [
    "# Film\n",
    "---"
   ]
  },
  {
   "cell_type": "code",
   "execution_count": 38,
   "id": "87267392",
   "metadata": {},
   "outputs": [
    {
     "data": {
      "text/html": [
       "<div>\n",
       "<style scoped>\n",
       "    .dataframe tbody tr th:only-of-type {\n",
       "        vertical-align: middle;\n",
       "    }\n",
       "\n",
       "    .dataframe tbody tr th {\n",
       "        vertical-align: top;\n",
       "    }\n",
       "\n",
       "    .dataframe thead th {\n",
       "        text-align: right;\n",
       "    }\n",
       "</style>\n",
       "<table border=\"1\" class=\"dataframe\">\n",
       "  <thead>\n",
       "    <tr style=\"text-align: right;\">\n",
       "      <th></th>\n",
       "      <th>film_id</th>\n",
       "      <th>title</th>\n",
       "      <th>description</th>\n",
       "      <th>release_year</th>\n",
       "      <th>language_id</th>\n",
       "      <th>original_language_id</th>\n",
       "      <th>rental_duration</th>\n",
       "      <th>rental_rate</th>\n",
       "      <th>length</th>\n",
       "      <th>replacement_cost</th>\n",
       "      <th>rating</th>\n",
       "      <th>special_features</th>\n",
       "      <th>last_update</th>\n",
       "    </tr>\n",
       "  </thead>\n",
       "  <tbody>\n",
       "    <tr>\n",
       "      <th>0</th>\n",
       "      <td>1</td>\n",
       "      <td>ACADEMY DINOSAUR</td>\n",
       "      <td>A Epic Drama of a Feminist And a Mad Scientist...</td>\n",
       "      <td>2006</td>\n",
       "      <td>1</td>\n",
       "      <td>NaN</td>\n",
       "      <td>6</td>\n",
       "      <td>0.99</td>\n",
       "      <td>86</td>\n",
       "      <td>20.99</td>\n",
       "      <td>PG</td>\n",
       "      <td>Deleted Scenes,Behind the Scenes</td>\n",
       "      <td>2006-02-15 05:03:42</td>\n",
       "    </tr>\n",
       "    <tr>\n",
       "      <th>1</th>\n",
       "      <td>2</td>\n",
       "      <td>ACE GOLDFINGER</td>\n",
       "      <td>A Astounding Epistle of a Database Administrat...</td>\n",
       "      <td>2006</td>\n",
       "      <td>1</td>\n",
       "      <td>NaN</td>\n",
       "      <td>3</td>\n",
       "      <td>4.99</td>\n",
       "      <td>48</td>\n",
       "      <td>12.99</td>\n",
       "      <td>G</td>\n",
       "      <td>Trailers,Deleted Scenes</td>\n",
       "      <td>2006-02-15 05:03:42</td>\n",
       "    </tr>\n",
       "    <tr>\n",
       "      <th>2</th>\n",
       "      <td>3</td>\n",
       "      <td>ADAPTATION HOLES</td>\n",
       "      <td>A Astounding Reflection of a Lumberjack And a ...</td>\n",
       "      <td>2006</td>\n",
       "      <td>1</td>\n",
       "      <td>NaN</td>\n",
       "      <td>7</td>\n",
       "      <td>2.99</td>\n",
       "      <td>50</td>\n",
       "      <td>18.99</td>\n",
       "      <td>NC-17</td>\n",
       "      <td>Trailers,Deleted Scenes</td>\n",
       "      <td>2006-02-15 05:03:42</td>\n",
       "    </tr>\n",
       "    <tr>\n",
       "      <th>3</th>\n",
       "      <td>4</td>\n",
       "      <td>AFFAIR PREJUDICE</td>\n",
       "      <td>A Fanciful Documentary of a Frisbee And a Lumb...</td>\n",
       "      <td>2006</td>\n",
       "      <td>1</td>\n",
       "      <td>NaN</td>\n",
       "      <td>5</td>\n",
       "      <td>2.99</td>\n",
       "      <td>117</td>\n",
       "      <td>26.99</td>\n",
       "      <td>G</td>\n",
       "      <td>Commentaries,Behind the Scenes</td>\n",
       "      <td>2006-02-15 05:03:42</td>\n",
       "    </tr>\n",
       "    <tr>\n",
       "      <th>4</th>\n",
       "      <td>5</td>\n",
       "      <td>AFRICAN EGG</td>\n",
       "      <td>A Fast-Paced Documentary of a Pastry Chef And ...</td>\n",
       "      <td>2006</td>\n",
       "      <td>1</td>\n",
       "      <td>NaN</td>\n",
       "      <td>6</td>\n",
       "      <td>2.99</td>\n",
       "      <td>130</td>\n",
       "      <td>22.99</td>\n",
       "      <td>G</td>\n",
       "      <td>Deleted Scenes</td>\n",
       "      <td>2006-02-15 05:03:42</td>\n",
       "    </tr>\n",
       "  </tbody>\n",
       "</table>\n",
       "</div>"
      ],
      "text/plain": [
       "   film_id             title   \n",
       "0        1  ACADEMY DINOSAUR  \\\n",
       "1        2    ACE GOLDFINGER   \n",
       "2        3  ADAPTATION HOLES   \n",
       "3        4  AFFAIR PREJUDICE   \n",
       "4        5       AFRICAN EGG   \n",
       "\n",
       "                                         description  release_year   \n",
       "0  A Epic Drama of a Feminist And a Mad Scientist...          2006  \\\n",
       "1  A Astounding Epistle of a Database Administrat...          2006   \n",
       "2  A Astounding Reflection of a Lumberjack And a ...          2006   \n",
       "3  A Fanciful Documentary of a Frisbee And a Lumb...          2006   \n",
       "4  A Fast-Paced Documentary of a Pastry Chef And ...          2006   \n",
       "\n",
       "   language_id  original_language_id  rental_duration  rental_rate  length   \n",
       "0            1                   NaN                6         0.99      86  \\\n",
       "1            1                   NaN                3         4.99      48   \n",
       "2            1                   NaN                7         2.99      50   \n",
       "3            1                   NaN                5         2.99     117   \n",
       "4            1                   NaN                6         2.99     130   \n",
       "\n",
       "   replacement_cost rating                  special_features   \n",
       "0             20.99     PG  Deleted Scenes,Behind the Scenes  \\\n",
       "1             12.99      G           Trailers,Deleted Scenes   \n",
       "2             18.99  NC-17           Trailers,Deleted Scenes   \n",
       "3             26.99      G    Commentaries,Behind the Scenes   \n",
       "4             22.99      G                    Deleted Scenes   \n",
       "\n",
       "           last_update  \n",
       "0  2006-02-15 05:03:42  \n",
       "1  2006-02-15 05:03:42  \n",
       "2  2006-02-15 05:03:42  \n",
       "3  2006-02-15 05:03:42  \n",
       "4  2006-02-15 05:03:42  "
      ]
     },
     "execution_count": 38,
     "metadata": {},
     "output_type": "execute_result"
    }
   ],
   "source": [
    "film = pd.read_csv('../data/film.csv')\n",
    "film.head()"
   ]
  },
  {
   "cell_type": "code",
   "execution_count": 39,
   "id": "115ce0fa",
   "metadata": {},
   "outputs": [
    {
     "name": "stdout",
     "output_type": "stream",
     "text": [
      "<class 'pandas.core.frame.DataFrame'>\n",
      "RangeIndex: 1000 entries, 0 to 999\n",
      "Data columns (total 13 columns):\n",
      " #   Column                Non-Null Count  Dtype  \n",
      "---  ------                --------------  -----  \n",
      " 0   film_id               1000 non-null   int64  \n",
      " 1   title                 1000 non-null   object \n",
      " 2   description           1000 non-null   object \n",
      " 3   release_year          1000 non-null   int64  \n",
      " 4   language_id           1000 non-null   int64  \n",
      " 5   original_language_id  0 non-null      float64\n",
      " 6   rental_duration       1000 non-null   int64  \n",
      " 7   rental_rate           1000 non-null   float64\n",
      " 8   length                1000 non-null   int64  \n",
      " 9   replacement_cost      1000 non-null   float64\n",
      " 10  rating                1000 non-null   object \n",
      " 11  special_features      1000 non-null   object \n",
      " 12  last_update           1000 non-null   object \n",
      "dtypes: float64(3), int64(5), object(5)\n",
      "memory usage: 101.7+ KB\n"
     ]
    }
   ],
   "source": [
    "film.info()"
   ]
  },
  {
   "cell_type": "code",
   "execution_count": 41,
   "id": "49096c51",
   "metadata": {},
   "outputs": [],
   "source": [
    "film.drop('original_language_id', axis=1, inplace=True)"
   ]
  },
  {
   "cell_type": "code",
   "execution_count": 42,
   "id": "5a0cfc73",
   "metadata": {},
   "outputs": [
    {
     "name": "stdout",
     "output_type": "stream",
     "text": [
      "<class 'pandas.core.frame.DataFrame'>\n",
      "RangeIndex: 1000 entries, 0 to 999\n",
      "Data columns (total 12 columns):\n",
      " #   Column            Non-Null Count  Dtype  \n",
      "---  ------            --------------  -----  \n",
      " 0   film_id           1000 non-null   int64  \n",
      " 1   title             1000 non-null   object \n",
      " 2   description       1000 non-null   object \n",
      " 3   release_year      1000 non-null   int64  \n",
      " 4   language_id       1000 non-null   int64  \n",
      " 5   rental_duration   1000 non-null   int64  \n",
      " 6   rental_rate       1000 non-null   float64\n",
      " 7   length            1000 non-null   int64  \n",
      " 8   replacement_cost  1000 non-null   float64\n",
      " 9   rating            1000 non-null   object \n",
      " 10  special_features  1000 non-null   object \n",
      " 11  last_update       1000 non-null   object \n",
      "dtypes: float64(2), int64(5), object(5)\n",
      "memory usage: 93.9+ KB\n"
     ]
    }
   ],
   "source": [
    "film.info()"
   ]
  },
  {
   "cell_type": "code",
   "execution_count": 43,
   "id": "869bcd43",
   "metadata": {},
   "outputs": [
    {
     "data": {
      "text/plain": [
       "array([2006], dtype=int64)"
      ]
     },
     "execution_count": 43,
     "metadata": {},
     "output_type": "execute_result"
    }
   ],
   "source": [
    "film.release_year.unique()"
   ]
  },
  {
   "cell_type": "code",
   "execution_count": 44,
   "id": "1d4a689c",
   "metadata": {},
   "outputs": [],
   "source": [
    "film.drop('release_year', axis=1, inplace=True)"
   ]
  },
  {
   "cell_type": "code",
   "execution_count": 45,
   "id": "0b298867",
   "metadata": {},
   "outputs": [
    {
     "data": {
      "text/plain": [
       "array([1], dtype=int64)"
      ]
     },
     "execution_count": 45,
     "metadata": {},
     "output_type": "execute_result"
    }
   ],
   "source": [
    "film.language_id.unique()"
   ]
  },
  {
   "cell_type": "code",
   "execution_count": 46,
   "id": "6a08faa0",
   "metadata": {},
   "outputs": [],
   "source": [
    "film.drop('language_id', axis=1, inplace=True)"
   ]
  },
  {
   "cell_type": "code",
   "execution_count": 47,
   "id": "9cd36ffe",
   "metadata": {},
   "outputs": [
    {
     "data": {
      "text/plain": [
       "array(['2006-02-15 05:03:42'], dtype=object)"
      ]
     },
     "execution_count": 47,
     "metadata": {},
     "output_type": "execute_result"
    }
   ],
   "source": [
    "film.last_update.unique()"
   ]
  },
  {
   "cell_type": "code",
   "execution_count": 48,
   "id": "cf2b44a6",
   "metadata": {},
   "outputs": [],
   "source": [
    "film.drop('last_update', axis=1, inplace=True)"
   ]
  },
  {
   "cell_type": "code",
   "execution_count": 83,
   "id": "2a41d397",
   "metadata": {},
   "outputs": [],
   "source": [
    "film.drop_duplicates(inplace = True)"
   ]
  },
  {
   "cell_type": "code",
   "execution_count": 84,
   "id": "8a1a521f",
   "metadata": {},
   "outputs": [
    {
     "name": "stdout",
     "output_type": "stream",
     "text": [
      "<class 'pandas.core.frame.DataFrame'>\n",
      "RangeIndex: 1000 entries, 0 to 999\n",
      "Data columns (total 9 columns):\n",
      " #   Column            Non-Null Count  Dtype  \n",
      "---  ------            --------------  -----  \n",
      " 0   film_id           1000 non-null   int64  \n",
      " 1   title             1000 non-null   object \n",
      " 2   description       1000 non-null   object \n",
      " 3   rental_duration   1000 non-null   int64  \n",
      " 4   rental_rate       1000 non-null   float64\n",
      " 5   length            1000 non-null   int64  \n",
      " 6   replacement_cost  1000 non-null   float64\n",
      " 7   rating            1000 non-null   object \n",
      " 8   special_features  1000 non-null   object \n",
      "dtypes: float64(2), int64(3), object(4)\n",
      "memory usage: 70.4+ KB\n"
     ]
    }
   ],
   "source": [
    "film.info()"
   ]
  },
  {
   "cell_type": "code",
   "execution_count": 55,
   "id": "5c6db781",
   "metadata": {},
   "outputs": [],
   "source": [
    "film.to_csv('../data/limpios/film_limpio.csv', index=False)"
   ]
  },
  {
   "cell_type": "markdown",
   "id": "c40ef9af",
   "metadata": {},
   "source": [
    "# Inventory\n",
    "---"
   ]
  },
  {
   "cell_type": "code",
   "execution_count": 32,
   "id": "eb9fac34",
   "metadata": {},
   "outputs": [
    {
     "data": {
      "text/html": [
       "<div>\n",
       "<style scoped>\n",
       "    .dataframe tbody tr th:only-of-type {\n",
       "        vertical-align: middle;\n",
       "    }\n",
       "\n",
       "    .dataframe tbody tr th {\n",
       "        vertical-align: top;\n",
       "    }\n",
       "\n",
       "    .dataframe thead th {\n",
       "        text-align: right;\n",
       "    }\n",
       "</style>\n",
       "<table border=\"1\" class=\"dataframe\">\n",
       "  <thead>\n",
       "    <tr style=\"text-align: right;\">\n",
       "      <th></th>\n",
       "      <th>inventory_id</th>\n",
       "      <th>film_id</th>\n",
       "      <th>store_id</th>\n",
       "      <th>last_update</th>\n",
       "    </tr>\n",
       "  </thead>\n",
       "  <tbody>\n",
       "    <tr>\n",
       "      <th>0</th>\n",
       "      <td>1</td>\n",
       "      <td>1</td>\n",
       "      <td>1</td>\n",
       "      <td>2006-02-15 05:09:17</td>\n",
       "    </tr>\n",
       "    <tr>\n",
       "      <th>1</th>\n",
       "      <td>2</td>\n",
       "      <td>1</td>\n",
       "      <td>1</td>\n",
       "      <td>2006-02-15 05:09:17</td>\n",
       "    </tr>\n",
       "    <tr>\n",
       "      <th>2</th>\n",
       "      <td>3</td>\n",
       "      <td>1</td>\n",
       "      <td>1</td>\n",
       "      <td>2006-02-15 05:09:17</td>\n",
       "    </tr>\n",
       "    <tr>\n",
       "      <th>3</th>\n",
       "      <td>4</td>\n",
       "      <td>1</td>\n",
       "      <td>1</td>\n",
       "      <td>2006-02-15 05:09:17</td>\n",
       "    </tr>\n",
       "    <tr>\n",
       "      <th>4</th>\n",
       "      <td>5</td>\n",
       "      <td>1</td>\n",
       "      <td>2</td>\n",
       "      <td>2006-02-15 05:09:17</td>\n",
       "    </tr>\n",
       "  </tbody>\n",
       "</table>\n",
       "</div>"
      ],
      "text/plain": [
       "   inventory_id  film_id  store_id          last_update\n",
       "0             1        1         1  2006-02-15 05:09:17\n",
       "1             2        1         1  2006-02-15 05:09:17\n",
       "2             3        1         1  2006-02-15 05:09:17\n",
       "3             4        1         1  2006-02-15 05:09:17\n",
       "4             5        1         2  2006-02-15 05:09:17"
      ]
     },
     "execution_count": 32,
     "metadata": {},
     "output_type": "execute_result"
    }
   ],
   "source": [
    "inv = pd.read_csv('../data/inventory.csv')\n",
    "inv.head()"
   ]
  },
  {
   "cell_type": "code",
   "execution_count": 57,
   "id": "f15219c7",
   "metadata": {},
   "outputs": [
    {
     "data": {
      "text/plain": [
       "array([  1,   2,   3,   4,   5,   6,   7,   8,   9,  10,  11,  12,  13,\n",
       "        15,  16,  17,  18,  19,  20,  21,  22,  23,  24,  25,  26,  27,\n",
       "        28,  29,  30,  31,  32,  34,  35,  37,  39,  40,  42,  43,  44,\n",
       "        45,  46,  47,  48,  49,  50,  51,  52,  53,  54,  55,  56,  57,\n",
       "        58,  59,  60,  61,  62,  63,  64,  65,  66,  67,  68,  69,  70,\n",
       "        71,  72,  73,  74,  75,  76,  77,  78,  79,  80,  81,  82,  83,\n",
       "        84,  85,  86,  88,  89,  90,  91,  92,  93,  94,  95,  96,  97,\n",
       "        98,  99, 100, 101, 102, 103, 104, 105, 106, 107, 109, 110, 111,\n",
       "       112, 113, 114, 115, 116, 117, 118, 119, 120, 121, 122, 123, 124,\n",
       "       125, 126, 127, 129, 130, 131, 132, 133, 134, 135, 136, 137, 138,\n",
       "       139, 140, 141, 142, 143, 145, 146, 147, 149, 150, 151, 152, 153,\n",
       "       154, 155, 156, 157, 158, 159, 160, 161, 162, 163, 164, 165, 166,\n",
       "       167, 168, 169, 170, 172, 173, 174, 175, 176, 177, 178, 179, 180,\n",
       "       181, 182, 183, 184, 185, 186, 187, 188, 189, 190, 191, 193, 194,\n",
       "       196, 197, 199, 200, 201, 202, 203, 204, 205, 206, 207, 208, 209,\n",
       "       210, 211, 212, 213, 214, 215, 216, 218, 219, 220, 222, 223],\n",
       "      dtype=int64)"
      ]
     },
     "execution_count": 57,
     "metadata": {},
     "output_type": "execute_result"
    }
   ],
   "source": [
    "inv.film_id.unique()"
   ]
  },
  {
   "cell_type": "code",
   "execution_count": 58,
   "id": "68c17374",
   "metadata": {},
   "outputs": [
    {
     "data": {
      "text/plain": [
       "array([1, 2], dtype=int64)"
      ]
     },
     "execution_count": 58,
     "metadata": {},
     "output_type": "execute_result"
    }
   ],
   "source": [
    "inv.store_id.unique()"
   ]
  },
  {
   "cell_type": "code",
   "execution_count": 59,
   "id": "bfd37042",
   "metadata": {},
   "outputs": [
    {
     "data": {
      "text/plain": [
       "array(['2006-02-15 05:09:17'], dtype=object)"
      ]
     },
     "execution_count": 59,
     "metadata": {},
     "output_type": "execute_result"
    }
   ],
   "source": [
    "inv.last_update.unique()"
   ]
  },
  {
   "cell_type": "code",
   "execution_count": 60,
   "id": "573050c4",
   "metadata": {},
   "outputs": [],
   "source": [
    "inv.drop('last_update', axis=1, inplace=True)"
   ]
  },
  {
   "cell_type": "code",
   "execution_count": 85,
   "id": "9e78ca2e",
   "metadata": {},
   "outputs": [],
   "source": [
    "inv.drop_duplicates(inplace = True)"
   ]
  },
  {
   "cell_type": "code",
   "execution_count": 86,
   "id": "c31d8dad",
   "metadata": {},
   "outputs": [
    {
     "name": "stdout",
     "output_type": "stream",
     "text": [
      "<class 'pandas.core.frame.DataFrame'>\n",
      "RangeIndex: 1000 entries, 0 to 999\n",
      "Data columns (total 3 columns):\n",
      " #   Column        Non-Null Count  Dtype\n",
      "---  ------        --------------  -----\n",
      " 0   inventory_id  1000 non-null   int64\n",
      " 1   film_id       1000 non-null   int64\n",
      " 2   store_id      1000 non-null   int64\n",
      "dtypes: int64(3)\n",
      "memory usage: 23.6 KB\n"
     ]
    }
   ],
   "source": [
    "inv.info()"
   ]
  },
  {
   "cell_type": "code",
   "execution_count": 62,
   "id": "d5a081cd",
   "metadata": {},
   "outputs": [],
   "source": [
    "inv.to_csv('../data/limpios/inventory_limpio.csv', index=False)"
   ]
  },
  {
   "cell_type": "markdown",
   "id": "f0f60ebf",
   "metadata": {},
   "source": [
    "# Language\n",
    "---"
   ]
  },
  {
   "cell_type": "code",
   "execution_count": 63,
   "id": "960af8da",
   "metadata": {},
   "outputs": [
    {
     "data": {
      "text/html": [
       "<div>\n",
       "<style scoped>\n",
       "    .dataframe tbody tr th:only-of-type {\n",
       "        vertical-align: middle;\n",
       "    }\n",
       "\n",
       "    .dataframe tbody tr th {\n",
       "        vertical-align: top;\n",
       "    }\n",
       "\n",
       "    .dataframe thead th {\n",
       "        text-align: right;\n",
       "    }\n",
       "</style>\n",
       "<table border=\"1\" class=\"dataframe\">\n",
       "  <thead>\n",
       "    <tr style=\"text-align: right;\">\n",
       "      <th></th>\n",
       "      <th>language_id</th>\n",
       "      <th>name</th>\n",
       "      <th>last_update</th>\n",
       "    </tr>\n",
       "  </thead>\n",
       "  <tbody>\n",
       "    <tr>\n",
       "      <th>0</th>\n",
       "      <td>1</td>\n",
       "      <td>English</td>\n",
       "      <td>2006-02-15 05:02:19</td>\n",
       "    </tr>\n",
       "    <tr>\n",
       "      <th>1</th>\n",
       "      <td>2</td>\n",
       "      <td>Italian</td>\n",
       "      <td>2006-02-15 05:02:19</td>\n",
       "    </tr>\n",
       "    <tr>\n",
       "      <th>2</th>\n",
       "      <td>3</td>\n",
       "      <td>Japanese</td>\n",
       "      <td>2006-02-15 05:02:19</td>\n",
       "    </tr>\n",
       "    <tr>\n",
       "      <th>3</th>\n",
       "      <td>4</td>\n",
       "      <td>Mandarin</td>\n",
       "      <td>2006-02-15 05:02:19</td>\n",
       "    </tr>\n",
       "    <tr>\n",
       "      <th>4</th>\n",
       "      <td>5</td>\n",
       "      <td>French</td>\n",
       "      <td>2006-02-15 05:02:19</td>\n",
       "    </tr>\n",
       "  </tbody>\n",
       "</table>\n",
       "</div>"
      ],
      "text/plain": [
       "   language_id      name          last_update\n",
       "0            1   English  2006-02-15 05:02:19\n",
       "1            2   Italian  2006-02-15 05:02:19\n",
       "2            3  Japanese  2006-02-15 05:02:19\n",
       "3            4  Mandarin  2006-02-15 05:02:19\n",
       "4            5    French  2006-02-15 05:02:19"
      ]
     },
     "execution_count": 63,
     "metadata": {},
     "output_type": "execute_result"
    }
   ],
   "source": [
    "lan = pd.read_csv('../data/language.csv')\n",
    "lan.head()"
   ]
  },
  {
   "cell_type": "code",
   "execution_count": 64,
   "id": "4dbb5f51",
   "metadata": {},
   "outputs": [
    {
     "data": {
      "text/plain": [
       "array(['2006-02-15 05:02:19'], dtype=object)"
      ]
     },
     "execution_count": 64,
     "metadata": {},
     "output_type": "execute_result"
    }
   ],
   "source": [
    "lan.last_update.unique()"
   ]
  },
  {
   "cell_type": "code",
   "execution_count": 66,
   "id": "f4a6f008",
   "metadata": {},
   "outputs": [],
   "source": [
    "lan.drop('last_update', axis=1, inplace=True)"
   ]
  },
  {
   "cell_type": "code",
   "execution_count": 87,
   "id": "2d396068",
   "metadata": {},
   "outputs": [],
   "source": [
    "lan.drop_duplicates(inplace = True)"
   ]
  },
  {
   "cell_type": "code",
   "execution_count": 88,
   "id": "d0dccb6c",
   "metadata": {},
   "outputs": [
    {
     "name": "stdout",
     "output_type": "stream",
     "text": [
      "<class 'pandas.core.frame.DataFrame'>\n",
      "RangeIndex: 6 entries, 0 to 5\n",
      "Data columns (total 2 columns):\n",
      " #   Column       Non-Null Count  Dtype \n",
      "---  ------       --------------  ----- \n",
      " 0   language_id  6 non-null      int64 \n",
      " 1   name         6 non-null      object\n",
      "dtypes: int64(1), object(1)\n",
      "memory usage: 224.0+ bytes\n"
     ]
    }
   ],
   "source": [
    "lan.info()"
   ]
  },
  {
   "cell_type": "code",
   "execution_count": 68,
   "id": "23fd7db7",
   "metadata": {},
   "outputs": [],
   "source": [
    "lan.to_csv('../data/limpios/language_limpio.csv', index=False)"
   ]
  },
  {
   "cell_type": "markdown",
   "id": "e4755cfa",
   "metadata": {},
   "source": [
    "# Rental\n",
    "---"
   ]
  },
  {
   "cell_type": "code",
   "execution_count": 12,
   "id": "3cf50fe0",
   "metadata": {},
   "outputs": [
    {
     "data": {
      "text/html": [
       "<div>\n",
       "<style scoped>\n",
       "    .dataframe tbody tr th:only-of-type {\n",
       "        vertical-align: middle;\n",
       "    }\n",
       "\n",
       "    .dataframe tbody tr th {\n",
       "        vertical-align: top;\n",
       "    }\n",
       "\n",
       "    .dataframe thead th {\n",
       "        text-align: right;\n",
       "    }\n",
       "</style>\n",
       "<table border=\"1\" class=\"dataframe\">\n",
       "  <thead>\n",
       "    <tr style=\"text-align: right;\">\n",
       "      <th></th>\n",
       "      <th>rental_id</th>\n",
       "      <th>rental_date</th>\n",
       "      <th>inventory_id</th>\n",
       "      <th>customer_id</th>\n",
       "      <th>return_date</th>\n",
       "      <th>staff_id</th>\n",
       "      <th>last_update</th>\n",
       "    </tr>\n",
       "  </thead>\n",
       "  <tbody>\n",
       "    <tr>\n",
       "      <th>0</th>\n",
       "      <td>1</td>\n",
       "      <td>2005-05-24 22:53:30</td>\n",
       "      <td>367</td>\n",
       "      <td>130</td>\n",
       "      <td>2005-05-26 22:04:30</td>\n",
       "      <td>1</td>\n",
       "      <td>2006-02-15 21:30:53</td>\n",
       "    </tr>\n",
       "    <tr>\n",
       "      <th>1</th>\n",
       "      <td>2</td>\n",
       "      <td>2005-05-24 22:54:33</td>\n",
       "      <td>1525</td>\n",
       "      <td>459</td>\n",
       "      <td>2005-05-28 19:40:33</td>\n",
       "      <td>1</td>\n",
       "      <td>2006-02-15 21:30:53</td>\n",
       "    </tr>\n",
       "    <tr>\n",
       "      <th>2</th>\n",
       "      <td>3</td>\n",
       "      <td>2005-05-24 23:03:39</td>\n",
       "      <td>1711</td>\n",
       "      <td>408</td>\n",
       "      <td>2005-06-01 22:12:39</td>\n",
       "      <td>1</td>\n",
       "      <td>2006-02-15 21:30:53</td>\n",
       "    </tr>\n",
       "    <tr>\n",
       "      <th>3</th>\n",
       "      <td>4</td>\n",
       "      <td>2005-05-24 23:04:41</td>\n",
       "      <td>2452</td>\n",
       "      <td>333</td>\n",
       "      <td>2005-06-03 01:43:41</td>\n",
       "      <td>2</td>\n",
       "      <td>2006-02-15 21:30:53</td>\n",
       "    </tr>\n",
       "    <tr>\n",
       "      <th>4</th>\n",
       "      <td>5</td>\n",
       "      <td>2005-05-24 23:05:21</td>\n",
       "      <td>2079</td>\n",
       "      <td>222</td>\n",
       "      <td>2005-06-02 04:33:21</td>\n",
       "      <td>1</td>\n",
       "      <td>2006-02-15 21:30:53</td>\n",
       "    </tr>\n",
       "  </tbody>\n",
       "</table>\n",
       "</div>"
      ],
      "text/plain": [
       "   rental_id          rental_date  inventory_id  customer_id   \n",
       "0          1  2005-05-24 22:53:30           367          130  \\\n",
       "1          2  2005-05-24 22:54:33          1525          459   \n",
       "2          3  2005-05-24 23:03:39          1711          408   \n",
       "3          4  2005-05-24 23:04:41          2452          333   \n",
       "4          5  2005-05-24 23:05:21          2079          222   \n",
       "\n",
       "           return_date  staff_id          last_update  \n",
       "0  2005-05-26 22:04:30         1  2006-02-15 21:30:53  \n",
       "1  2005-05-28 19:40:33         1  2006-02-15 21:30:53  \n",
       "2  2005-06-01 22:12:39         1  2006-02-15 21:30:53  \n",
       "3  2005-06-03 01:43:41         2  2006-02-15 21:30:53  \n",
       "4  2005-06-02 04:33:21         1  2006-02-15 21:30:53  "
      ]
     },
     "execution_count": 12,
     "metadata": {},
     "output_type": "execute_result"
    }
   ],
   "source": [
    "ren = pd.read_csv('../data/rental.csv')\n",
    "ren.head()"
   ]
  },
  {
   "cell_type": "code",
   "execution_count": 13,
   "id": "50c362a2",
   "metadata": {},
   "outputs": [
    {
     "name": "stdout",
     "output_type": "stream",
     "text": [
      "<class 'pandas.core.frame.DataFrame'>\n",
      "RangeIndex: 1000 entries, 0 to 999\n",
      "Data columns (total 7 columns):\n",
      " #   Column        Non-Null Count  Dtype \n",
      "---  ------        --------------  ----- \n",
      " 0   rental_id     1000 non-null   int64 \n",
      " 1   rental_date   1000 non-null   object\n",
      " 2   inventory_id  1000 non-null   int64 \n",
      " 3   customer_id   1000 non-null   int64 \n",
      " 4   return_date   1000 non-null   object\n",
      " 5   staff_id      1000 non-null   int64 \n",
      " 6   last_update   1000 non-null   object\n",
      "dtypes: int64(4), object(3)\n",
      "memory usage: 54.8+ KB\n"
     ]
    }
   ],
   "source": [
    "ren.info()"
   ]
  },
  {
   "cell_type": "code",
   "execution_count": 14,
   "id": "f2d68279",
   "metadata": {},
   "outputs": [
    {
     "data": {
      "text/plain": [
       "array(['2005-05-24 22:53:30', '2005-05-24 22:54:33',\n",
       "       '2005-05-24 23:03:39', '2005-05-24 23:04:41',\n",
       "       '2005-05-24 23:05:21', '2005-05-24 23:08:07',\n",
       "       '2005-05-24 23:11:53', '2005-05-24 23:31:46',\n",
       "       '2005-05-25 00:00:40', '2005-05-25 00:02:21'], dtype=object)"
      ]
     },
     "execution_count": 14,
     "metadata": {},
     "output_type": "execute_result"
    }
   ],
   "source": [
    "ren.rental_date.unique()[:10]"
   ]
  },
  {
   "cell_type": "code",
   "execution_count": 17,
   "id": "7ba493cd",
   "metadata": {},
   "outputs": [],
   "source": [
    "ren['rental_date'] = pd.to_datetime(ren['rental_date'], format='%Y-%m-%d %H:%M:%S')"
   ]
  },
  {
   "cell_type": "code",
   "execution_count": 18,
   "id": "43648232",
   "metadata": {},
   "outputs": [
    {
     "name": "stdout",
     "output_type": "stream",
     "text": [
      "<class 'pandas.core.frame.DataFrame'>\n",
      "RangeIndex: 1000 entries, 0 to 999\n",
      "Data columns (total 7 columns):\n",
      " #   Column        Non-Null Count  Dtype         \n",
      "---  ------        --------------  -----         \n",
      " 0   rental_id     1000 non-null   int64         \n",
      " 1   rental_date   1000 non-null   datetime64[ns]\n",
      " 2   inventory_id  1000 non-null   int64         \n",
      " 3   customer_id   1000 non-null   int64         \n",
      " 4   return_date   1000 non-null   object        \n",
      " 5   staff_id      1000 non-null   int64         \n",
      " 6   last_update   1000 non-null   object        \n",
      "dtypes: datetime64[ns](1), int64(4), object(2)\n",
      "memory usage: 54.8+ KB\n"
     ]
    }
   ],
   "source": [
    "ren.info()"
   ]
  },
  {
   "cell_type": "code",
   "execution_count": 19,
   "id": "129a0583",
   "metadata": {},
   "outputs": [
    {
     "data": {
      "text/plain": [
       "array(['2005-05-26 22:04:30', '2005-05-28 19:40:33',\n",
       "       '2005-06-01 22:12:39', '2005-06-03 01:43:41',\n",
       "       '2005-06-02 04:33:21', '2005-05-27 01:32:07',\n",
       "       '2005-05-29 20:34:53', '2005-05-27 23:33:46',\n",
       "       '2005-05-28 00:22:40', '2005-05-31 22:44:21'], dtype=object)"
      ]
     },
     "execution_count": 19,
     "metadata": {},
     "output_type": "execute_result"
    }
   ],
   "source": [
    "ren.return_date.unique()[:10]"
   ]
  },
  {
   "cell_type": "code",
   "execution_count": 20,
   "id": "e2cc2ee6",
   "metadata": {},
   "outputs": [],
   "source": [
    "ren['return_date'] = pd.to_datetime(ren['return_date'], format='%Y-%m-%d %H:%M:%S')"
   ]
  },
  {
   "cell_type": "code",
   "execution_count": 21,
   "id": "fbe473c0",
   "metadata": {},
   "outputs": [
    {
     "data": {
      "text/plain": [
       "array(['2006-02-15 21:30:53'], dtype=object)"
      ]
     },
     "execution_count": 21,
     "metadata": {},
     "output_type": "execute_result"
    }
   ],
   "source": [
    "ren.last_update.unique()"
   ]
  },
  {
   "cell_type": "code",
   "execution_count": 22,
   "id": "d876d61d",
   "metadata": {},
   "outputs": [],
   "source": [
    "ren.drop('last_update', axis=1, inplace=True)"
   ]
  },
  {
   "cell_type": "code",
   "execution_count": 23,
   "id": "c36eff62",
   "metadata": {},
   "outputs": [],
   "source": [
    "ren.drop_duplicates(inplace = True)"
   ]
  },
  {
   "cell_type": "code",
   "execution_count": 24,
   "id": "c7853b4c",
   "metadata": {},
   "outputs": [
    {
     "name": "stdout",
     "output_type": "stream",
     "text": [
      "<class 'pandas.core.frame.DataFrame'>\n",
      "RangeIndex: 1000 entries, 0 to 999\n",
      "Data columns (total 6 columns):\n",
      " #   Column        Non-Null Count  Dtype         \n",
      "---  ------        --------------  -----         \n",
      " 0   rental_id     1000 non-null   int64         \n",
      " 1   rental_date   1000 non-null   datetime64[ns]\n",
      " 2   inventory_id  1000 non-null   int64         \n",
      " 3   customer_id   1000 non-null   int64         \n",
      " 4   return_date   1000 non-null   datetime64[ns]\n",
      " 5   staff_id      1000 non-null   int64         \n",
      "dtypes: datetime64[ns](2), int64(4)\n",
      "memory usage: 47.0 KB\n"
     ]
    }
   ],
   "source": [
    "ren.info()"
   ]
  },
  {
   "cell_type": "code",
   "execution_count": 26,
   "id": "3644d56e",
   "metadata": {},
   "outputs": [],
   "source": [
    "ren.to_csv('../data/limpios/rental_limpio.csv', index=False)"
   ]
  },
  {
   "cell_type": "markdown",
   "id": "5c654fd7",
   "metadata": {},
   "source": [
    "# Old HDD\n",
    "---"
   ]
  },
  {
   "cell_type": "code",
   "execution_count": 93,
   "id": "d7422c65",
   "metadata": {},
   "outputs": [
    {
     "data": {
      "text/html": [
       "<div>\n",
       "<style scoped>\n",
       "    .dataframe tbody tr th:only-of-type {\n",
       "        vertical-align: middle;\n",
       "    }\n",
       "\n",
       "    .dataframe tbody tr th {\n",
       "        vertical-align: top;\n",
       "    }\n",
       "\n",
       "    .dataframe thead th {\n",
       "        text-align: right;\n",
       "    }\n",
       "</style>\n",
       "<table border=\"1\" class=\"dataframe\">\n",
       "  <thead>\n",
       "    <tr style=\"text-align: right;\">\n",
       "      <th></th>\n",
       "      <th>first_name</th>\n",
       "      <th>last_name</th>\n",
       "      <th>title</th>\n",
       "      <th>release_year</th>\n",
       "      <th>category_id</th>\n",
       "    </tr>\n",
       "  </thead>\n",
       "  <tbody>\n",
       "    <tr>\n",
       "      <th>0</th>\n",
       "      <td>PENELOPE</td>\n",
       "      <td>GUINESS</td>\n",
       "      <td>ACADEMY DINOSAUR</td>\n",
       "      <td>2006</td>\n",
       "      <td>6</td>\n",
       "    </tr>\n",
       "    <tr>\n",
       "      <th>1</th>\n",
       "      <td>PENELOPE</td>\n",
       "      <td>GUINESS</td>\n",
       "      <td>ANACONDA CONFESSIONS</td>\n",
       "      <td>2006</td>\n",
       "      <td>2</td>\n",
       "    </tr>\n",
       "    <tr>\n",
       "      <th>2</th>\n",
       "      <td>PENELOPE</td>\n",
       "      <td>GUINESS</td>\n",
       "      <td>ANGELS LIFE</td>\n",
       "      <td>2006</td>\n",
       "      <td>13</td>\n",
       "    </tr>\n",
       "    <tr>\n",
       "      <th>3</th>\n",
       "      <td>PENELOPE</td>\n",
       "      <td>GUINESS</td>\n",
       "      <td>BULWORTH COMMANDMENTS</td>\n",
       "      <td>2006</td>\n",
       "      <td>10</td>\n",
       "    </tr>\n",
       "    <tr>\n",
       "      <th>4</th>\n",
       "      <td>PENELOPE</td>\n",
       "      <td>GUINESS</td>\n",
       "      <td>CHEAPER CLYDE</td>\n",
       "      <td>2006</td>\n",
       "      <td>14</td>\n",
       "    </tr>\n",
       "  </tbody>\n",
       "</table>\n",
       "</div>"
      ],
      "text/plain": [
       "  first_name last_name                  title  release_year  category_id\n",
       "0   PENELOPE   GUINESS       ACADEMY DINOSAUR          2006            6\n",
       "1   PENELOPE   GUINESS   ANACONDA CONFESSIONS          2006            2\n",
       "2   PENELOPE   GUINESS            ANGELS LIFE          2006           13\n",
       "3   PENELOPE   GUINESS  BULWORTH COMMANDMENTS          2006           10\n",
       "4   PENELOPE   GUINESS          CHEAPER CLYDE          2006           14"
      ]
     },
     "execution_count": 93,
     "metadata": {},
     "output_type": "execute_result"
    }
   ],
   "source": [
    "old = pd.read_csv('../data/old_HDD.csv')\n",
    "old.head()"
   ]
  },
  {
   "cell_type": "code",
   "execution_count": 94,
   "id": "27469f07",
   "metadata": {},
   "outputs": [
    {
     "name": "stdout",
     "output_type": "stream",
     "text": [
      "<class 'pandas.core.frame.DataFrame'>\n",
      "RangeIndex: 1000 entries, 0 to 999\n",
      "Data columns (total 5 columns):\n",
      " #   Column        Non-Null Count  Dtype \n",
      "---  ------        --------------  ----- \n",
      " 0   first_name    1000 non-null   object\n",
      " 1   last_name     1000 non-null   object\n",
      " 2   title         1000 non-null   object\n",
      " 3   release_year  1000 non-null   int64 \n",
      " 4   category_id   1000 non-null   int64 \n",
      "dtypes: int64(2), object(3)\n",
      "memory usage: 39.2+ KB\n"
     ]
    }
   ],
   "source": [
    "old.info()"
   ]
  },
  {
   "cell_type": "code",
   "execution_count": 95,
   "id": "7bfdc614",
   "metadata": {},
   "outputs": [
    {
     "data": {
      "text/plain": [
       "array(['PENELOPE', 'NICK', 'ED', 'JENNIFER', 'JOHNNY', 'BETTE', 'GRACE',\n",
       "       'MATTHEW', 'JOE', 'CHRISTIAN', 'ZERO', 'KARL', 'UMA', 'VIVIEN',\n",
       "       'CUBA', 'FRED', 'HELEN', 'DAN', 'BOB', 'LUCILLE', 'KIRSTEN',\n",
       "       'ELVIS', 'SANDRA', 'CAMERON', 'KEVIN', 'RIP', 'JULIA', 'WOODY',\n",
       "       'ALEC', 'SISSY', 'TIM', 'MILLA', 'AUDREY', 'JUDY', 'BURT', 'VAL',\n",
       "       'TOM', 'GOLDIE'], dtype=object)"
      ]
     },
     "execution_count": 95,
     "metadata": {},
     "output_type": "execute_result"
    }
   ],
   "source": [
    "old.first_name.unique()"
   ]
  },
  {
   "cell_type": "code",
   "execution_count": 96,
   "id": "cdd3fd6e",
   "metadata": {},
   "outputs": [
    {
     "data": {
      "text/plain": [
       "array(['GUINESS', 'WAHLBERG', 'CHASE', 'DAVIS', 'LOLLOBRIGIDA',\n",
       "       'NICHOLSON', 'MOSTEL', 'JOHANSSON', 'SWANK', 'GABLE', 'CAGE',\n",
       "       'BERRY', 'WOOD', 'BERGEN', 'OLIVIER', 'COSTNER', 'VOIGHT', 'TORN',\n",
       "       'FAWCETT', 'TRACY', 'PALTROW', 'MARX', 'KILMER', 'STREEP', 'BLOOM',\n",
       "       'CRAWFORD', 'MCQUEEN', 'HOFFMAN', 'WAYNE', 'PECK', 'SOBIESKI',\n",
       "       'HACKMAN', 'DEAN', 'DUKAKIS', 'BOLGER', 'MCKELLEN', 'BRODY'],\n",
       "      dtype=object)"
      ]
     },
     "execution_count": 96,
     "metadata": {},
     "output_type": "execute_result"
    }
   ],
   "source": [
    "old.last_name.unique()"
   ]
  },
  {
   "cell_type": "code",
   "execution_count": 97,
   "id": "4886760a",
   "metadata": {},
   "outputs": [
    {
     "data": {
      "text/plain": [
       "array([2006], dtype=int64)"
      ]
     },
     "execution_count": 97,
     "metadata": {},
     "output_type": "execute_result"
    }
   ],
   "source": [
    "old.release_year.unique()"
   ]
  },
  {
   "cell_type": "code",
   "execution_count": 98,
   "id": "34138954",
   "metadata": {},
   "outputs": [],
   "source": [
    "old.drop('release_year', axis=1, inplace=True)"
   ]
  },
  {
   "cell_type": "code",
   "execution_count": 99,
   "id": "96417910",
   "metadata": {},
   "outputs": [],
   "source": [
    "old.drop_duplicates(inplace = True)"
   ]
  },
  {
   "cell_type": "code",
   "execution_count": 100,
   "id": "ad7c64ed",
   "metadata": {},
   "outputs": [
    {
     "name": "stdout",
     "output_type": "stream",
     "text": [
      "<class 'pandas.core.frame.DataFrame'>\n",
      "RangeIndex: 1000 entries, 0 to 999\n",
      "Data columns (total 4 columns):\n",
      " #   Column       Non-Null Count  Dtype \n",
      "---  ------       --------------  ----- \n",
      " 0   first_name   1000 non-null   object\n",
      " 1   last_name    1000 non-null   object\n",
      " 2   title        1000 non-null   object\n",
      " 3   category_id  1000 non-null   int64 \n",
      "dtypes: int64(1), object(3)\n",
      "memory usage: 31.4+ KB\n"
     ]
    }
   ],
   "source": [
    "old.info()"
   ]
  },
  {
   "cell_type": "code",
   "execution_count": 101,
   "id": "8407f6d4",
   "metadata": {},
   "outputs": [],
   "source": [
    "old.to_csv('../data/limpios/old_hdd_limpio.csv', index=False)"
   ]
  },
  {
   "cell_type": "markdown",
   "id": "fa878b7d",
   "metadata": {},
   "source": [
    "Una vez limpiados todos los datos, el siguiente paso es organizar las relaciones entre las tablas.\n",
    "  \n",
    "Para ello usare MySQL Workbench\n",
    "\n",
    "[3. Creación de la Base de datos](./Step3_Create_DataBase.ipynb)"
   ]
  }
 ],
 "metadata": {
  "kernelspec": {
   "display_name": "Python 3 (ipykernel)",
   "language": "python",
   "name": "python3"
  },
  "language_info": {
   "codemirror_mode": {
    "name": "ipython",
    "version": 3
   },
   "file_extension": ".py",
   "mimetype": "text/x-python",
   "name": "python",
   "nbconvert_exporter": "python",
   "pygments_lexer": "ipython3",
   "version": "3.11.1"
  }
 },
 "nbformat": 4,
 "nbformat_minor": 5
}
