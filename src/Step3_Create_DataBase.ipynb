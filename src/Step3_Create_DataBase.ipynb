{
 "cells": [
  {
   "cell_type": "markdown",
   "id": "ae7e56eb",
   "metadata": {},
   "source": [
    "# Database\n",
    "---\n",
    "  \n",
    "El siguiente paso es crear la base de datos y hacer las relaciones entre tablas.\n",
    "  \n",
    "Para realizar esta tarea he usado MySQL Workbench y mediante Reverse Engineer ha construido todas las tablas, pero no he creado ninguna relación para hacerlo más adelante de manera más ordenada.\n",
    "  \n",
    "El sql resultante lo he guardado como Create_DataBase.sql\n",
    "\n",
    "[Enlace a fichero Create_DataBase.sql](./Create_DataBase.sql)\n",
    "\n",
    "Y el resultado final es el siguiente:\n",
    "\n",
    "![Creando las Tablas](../img/SQL_Creando_Tablas.png)"
   ]
  },
  {
   "cell_type": "markdown",
   "id": "dfc59090",
   "metadata": {},
   "source": [
    "---\n",
    "Después de crear las tablas, importo los datos de los csv y ajusto las tablas para que casen los datos de ambas\n",
    "  \n",
    "Tras revisar como me quedan las tablas me doy cuenta de que el nexo de unión de varias de ellas es la tabla old_HDD, sin embargo las relaciones no estaban hechas por el id, por lo que decido realizar una tabla llamada new_HDD en la que mediante el operador LEFT JOIN asocio los datos con el valor id de las columnas correspodientes para poder obtener así una tabla 'Matriz' que me permita explorar todas las relaciones.\n",
    "  \n",
    "Esto lo realizo mediante la terminal de MySQL Workbench y guardo los comandos en el fichero SQL llamado Sort_DataBase.sql\n",
    "  \n",
    "[Enlace a fichero Sort_DataBase.sql](./Short_DataBase.sql)\n",
    "\n",
    "Tras realizar este proceso, el resultado es el siguiente:\n",
    "\n",
    "![Relacionando las Tablas](../img/SQL_Relacionado.png)"
   ]
  },
  {
   "cell_type": "markdown",
   "id": "a6f48559",
   "metadata": {},
   "source": [
    "---\n",
    "Ahora que ya tengo creadas las tablas, he introducido los datos y he creado las relaciones entre ellas continúo con el cuarto checkpoint que es el de analizar los datos\n",
    "\n",
    "[4. Análisis de datos](./Step4_Analysis_of_data.ipynb)"
   ]
  }
 ],
 "metadata": {
  "kernelspec": {
   "display_name": "Python 3 (ipykernel)",
   "language": "python",
   "name": "python3"
  },
  "language_info": {
   "codemirror_mode": {
    "name": "ipython",
    "version": 3
   },
   "file_extension": ".py",
   "mimetype": "text/x-python",
   "name": "python",
   "nbconvert_exporter": "python",
   "pygments_lexer": "ipython3",
   "version": "3.11.1"
  }
 },
 "nbformat": 4,
 "nbformat_minor": 5
}
